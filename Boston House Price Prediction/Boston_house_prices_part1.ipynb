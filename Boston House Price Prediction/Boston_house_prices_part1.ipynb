{
  "nbformat": 4,
  "nbformat_minor": 0,
  "metadata": {
    "colab": {
      "name": "Boston_house_prices_part1.ipynb",
      "version": "0.3.2",
      "provenance": [],
      "collapsed_sections": [],
      "toc_visible": true
    },
    "kernelspec": {
      "name": "python3",
      "display_name": "Python 3"
    },
    "accelerator": "GPU"
  },
  "cells": [
    {
      "metadata": {
        "id": "c_fMNVp13W5D",
        "colab_type": "text"
      },
      "cell_type": "markdown",
      "source": [
        "# Random Forest Model without Automatic Feature Engineering"
      ]
    },
    {
      "metadata": {
        "id": "ERXLKXlX3t7E",
        "colab_type": "text"
      },
      "cell_type": "markdown",
      "source": [
        "In this notebook, we will focus on achieving better performance by choosing the most important features through **Feature Reduction**"
      ]
    },
    {
      "metadata": {
        "id": "Uims7gPlkHGw",
        "colab_type": "text"
      },
      "cell_type": "markdown",
      "source": [
        "## 1. Loading Data and Packages"
      ]
    },
    {
      "metadata": {
        "id": "fepIFopqdg3z",
        "colab_type": "code",
        "colab": {}
      },
      "cell_type": "code",
      "source": [
        "# Importing Libraries\n",
        "import numpy as np\n",
        "import pandas as pd\n",
        "import matplotlib.pyplot as plt"
      ],
      "execution_count": 0,
      "outputs": []
    },
    {
      "metadata": {
        "id": "dGKurs9SdxgO",
        "colab_type": "code",
        "outputId": "a1746574-2203-4b95-e2c2-b0a773328603",
        "colab": {
          "base_uri": "https://localhost:8080/",
          "height": 317
        }
      },
      "cell_type": "code",
      "source": [
        "# Importing the dataset\n",
        "column_names = ['CRIM', 'ZN', 'INDUS', 'CHAS', 'NOX', 'RM', 'AGE', 'DIS', 'RAD', 'TAX', 'PTRATIO', 'B', 'LSTAT', 'MEDV']\n",
        "dataset = pd.read_csv('housing.csv', delim_whitespace=True, names=column_names)\n",
        "dataset.describe()"
      ],
      "execution_count": 2,
      "outputs": [
        {
          "output_type": "execute_result",
          "data": {
            "text/html": [
              "<div>\n",
              "<style scoped>\n",
              "    .dataframe tbody tr th:only-of-type {\n",
              "        vertical-align: middle;\n",
              "    }\n",
              "\n",
              "    .dataframe tbody tr th {\n",
              "        vertical-align: top;\n",
              "    }\n",
              "\n",
              "    .dataframe thead th {\n",
              "        text-align: right;\n",
              "    }\n",
              "</style>\n",
              "<table border=\"1\" class=\"dataframe\">\n",
              "  <thead>\n",
              "    <tr style=\"text-align: right;\">\n",
              "      <th></th>\n",
              "      <th>CRIM</th>\n",
              "      <th>ZN</th>\n",
              "      <th>INDUS</th>\n",
              "      <th>CHAS</th>\n",
              "      <th>NOX</th>\n",
              "      <th>RM</th>\n",
              "      <th>AGE</th>\n",
              "      <th>DIS</th>\n",
              "      <th>RAD</th>\n",
              "      <th>TAX</th>\n",
              "      <th>PTRATIO</th>\n",
              "      <th>B</th>\n",
              "      <th>LSTAT</th>\n",
              "      <th>MEDV</th>\n",
              "    </tr>\n",
              "  </thead>\n",
              "  <tbody>\n",
              "    <tr>\n",
              "      <th>count</th>\n",
              "      <td>506.000000</td>\n",
              "      <td>506.000000</td>\n",
              "      <td>506.000000</td>\n",
              "      <td>506.000000</td>\n",
              "      <td>506.000000</td>\n",
              "      <td>506.000000</td>\n",
              "      <td>506.000000</td>\n",
              "      <td>506.000000</td>\n",
              "      <td>506.000000</td>\n",
              "      <td>506.000000</td>\n",
              "      <td>506.000000</td>\n",
              "      <td>506.000000</td>\n",
              "      <td>506.000000</td>\n",
              "      <td>506.000000</td>\n",
              "    </tr>\n",
              "    <tr>\n",
              "      <th>mean</th>\n",
              "      <td>3.613524</td>\n",
              "      <td>11.363636</td>\n",
              "      <td>11.136779</td>\n",
              "      <td>0.069170</td>\n",
              "      <td>0.554695</td>\n",
              "      <td>6.284634</td>\n",
              "      <td>68.574901</td>\n",
              "      <td>3.795043</td>\n",
              "      <td>9.549407</td>\n",
              "      <td>408.237154</td>\n",
              "      <td>18.455534</td>\n",
              "      <td>356.674032</td>\n",
              "      <td>12.653063</td>\n",
              "      <td>22.532806</td>\n",
              "    </tr>\n",
              "    <tr>\n",
              "      <th>std</th>\n",
              "      <td>8.601545</td>\n",
              "      <td>23.322453</td>\n",
              "      <td>6.860353</td>\n",
              "      <td>0.253994</td>\n",
              "      <td>0.115878</td>\n",
              "      <td>0.702617</td>\n",
              "      <td>28.148861</td>\n",
              "      <td>2.105710</td>\n",
              "      <td>8.707259</td>\n",
              "      <td>168.537116</td>\n",
              "      <td>2.164946</td>\n",
              "      <td>91.294864</td>\n",
              "      <td>7.141062</td>\n",
              "      <td>9.197104</td>\n",
              "    </tr>\n",
              "    <tr>\n",
              "      <th>min</th>\n",
              "      <td>0.006320</td>\n",
              "      <td>0.000000</td>\n",
              "      <td>0.460000</td>\n",
              "      <td>0.000000</td>\n",
              "      <td>0.385000</td>\n",
              "      <td>3.561000</td>\n",
              "      <td>2.900000</td>\n",
              "      <td>1.129600</td>\n",
              "      <td>1.000000</td>\n",
              "      <td>187.000000</td>\n",
              "      <td>12.600000</td>\n",
              "      <td>0.320000</td>\n",
              "      <td>1.730000</td>\n",
              "      <td>5.000000</td>\n",
              "    </tr>\n",
              "    <tr>\n",
              "      <th>25%</th>\n",
              "      <td>0.082045</td>\n",
              "      <td>0.000000</td>\n",
              "      <td>5.190000</td>\n",
              "      <td>0.000000</td>\n",
              "      <td>0.449000</td>\n",
              "      <td>5.885500</td>\n",
              "      <td>45.025000</td>\n",
              "      <td>2.100175</td>\n",
              "      <td>4.000000</td>\n",
              "      <td>279.000000</td>\n",
              "      <td>17.400000</td>\n",
              "      <td>375.377500</td>\n",
              "      <td>6.950000</td>\n",
              "      <td>17.025000</td>\n",
              "    </tr>\n",
              "    <tr>\n",
              "      <th>50%</th>\n",
              "      <td>0.256510</td>\n",
              "      <td>0.000000</td>\n",
              "      <td>9.690000</td>\n",
              "      <td>0.000000</td>\n",
              "      <td>0.538000</td>\n",
              "      <td>6.208500</td>\n",
              "      <td>77.500000</td>\n",
              "      <td>3.207450</td>\n",
              "      <td>5.000000</td>\n",
              "      <td>330.000000</td>\n",
              "      <td>19.050000</td>\n",
              "      <td>391.440000</td>\n",
              "      <td>11.360000</td>\n",
              "      <td>21.200000</td>\n",
              "    </tr>\n",
              "    <tr>\n",
              "      <th>75%</th>\n",
              "      <td>3.677082</td>\n",
              "      <td>12.500000</td>\n",
              "      <td>18.100000</td>\n",
              "      <td>0.000000</td>\n",
              "      <td>0.624000</td>\n",
              "      <td>6.623500</td>\n",
              "      <td>94.075000</td>\n",
              "      <td>5.188425</td>\n",
              "      <td>24.000000</td>\n",
              "      <td>666.000000</td>\n",
              "      <td>20.200000</td>\n",
              "      <td>396.225000</td>\n",
              "      <td>16.955000</td>\n",
              "      <td>25.000000</td>\n",
              "    </tr>\n",
              "    <tr>\n",
              "      <th>max</th>\n",
              "      <td>88.976200</td>\n",
              "      <td>100.000000</td>\n",
              "      <td>27.740000</td>\n",
              "      <td>1.000000</td>\n",
              "      <td>0.871000</td>\n",
              "      <td>8.780000</td>\n",
              "      <td>100.000000</td>\n",
              "      <td>12.126500</td>\n",
              "      <td>24.000000</td>\n",
              "      <td>711.000000</td>\n",
              "      <td>22.000000</td>\n",
              "      <td>396.900000</td>\n",
              "      <td>37.970000</td>\n",
              "      <td>50.000000</td>\n",
              "    </tr>\n",
              "  </tbody>\n",
              "</table>\n",
              "</div>"
            ],
            "text/plain": [
              "             CRIM          ZN       INDUS        CHAS         NOX          RM  \\\n",
              "count  506.000000  506.000000  506.000000  506.000000  506.000000  506.000000   \n",
              "mean     3.613524   11.363636   11.136779    0.069170    0.554695    6.284634   \n",
              "std      8.601545   23.322453    6.860353    0.253994    0.115878    0.702617   \n",
              "min      0.006320    0.000000    0.460000    0.000000    0.385000    3.561000   \n",
              "25%      0.082045    0.000000    5.190000    0.000000    0.449000    5.885500   \n",
              "50%      0.256510    0.000000    9.690000    0.000000    0.538000    6.208500   \n",
              "75%      3.677082   12.500000   18.100000    0.000000    0.624000    6.623500   \n",
              "max     88.976200  100.000000   27.740000    1.000000    0.871000    8.780000   \n",
              "\n",
              "              AGE         DIS         RAD         TAX     PTRATIO           B  \\\n",
              "count  506.000000  506.000000  506.000000  506.000000  506.000000  506.000000   \n",
              "mean    68.574901    3.795043    9.549407  408.237154   18.455534  356.674032   \n",
              "std     28.148861    2.105710    8.707259  168.537116    2.164946   91.294864   \n",
              "min      2.900000    1.129600    1.000000  187.000000   12.600000    0.320000   \n",
              "25%     45.025000    2.100175    4.000000  279.000000   17.400000  375.377500   \n",
              "50%     77.500000    3.207450    5.000000  330.000000   19.050000  391.440000   \n",
              "75%     94.075000    5.188425   24.000000  666.000000   20.200000  396.225000   \n",
              "max    100.000000   12.126500   24.000000  711.000000   22.000000  396.900000   \n",
              "\n",
              "            LSTAT        MEDV  \n",
              "count  506.000000  506.000000  \n",
              "mean    12.653063   22.532806  \n",
              "std      7.141062    9.197104  \n",
              "min      1.730000    5.000000  \n",
              "25%      6.950000   17.025000  \n",
              "50%     11.360000   21.200000  \n",
              "75%     16.955000   25.000000  \n",
              "max     37.970000   50.000000  "
            ]
          },
          "metadata": {
            "tags": []
          },
          "execution_count": 2
        }
      ]
    },
    {
      "metadata": {
        "id": "CWqeQj9skSFQ",
        "colab_type": "text"
      },
      "cell_type": "markdown",
      "source": [
        "## 2. Analyzing the data"
      ]
    },
    {
      "metadata": {
        "id": "5fSaC7GXdzX2",
        "colab_type": "code",
        "outputId": "e8529dd9-141d-4219-8162-23399ef9e5b2",
        "colab": {
          "base_uri": "https://localhost:8080/",
          "height": 795
        }
      },
      "cell_type": "code",
      "source": [
        "# visualize the dataset\n",
        "import seaborn as sns\n",
        "import matplotlib.pyplot as plt\n",
        "\n",
        "fig, axs = plt.subplots(ncols=7, nrows=2, figsize=(20, 10))\n",
        "index = 0\n",
        "axs = axs.flatten()\n",
        "\n",
        "# draw boxplots with vertical orientation\n",
        "for k,v in dataset.items():\n",
        "    sns.boxplot(y=k, data=dataset, ax=axs[index])\n",
        "    index += 1\n",
        "plt.tight_layout(pad=0.4, w_pad=1, h_pad=5.0)"
      ],
      "execution_count": 3,
      "outputs": [
        {
          "output_type": "stream",
          "text": [
            "/usr/local/lib/python3.6/dist-packages/seaborn/categorical.py:454: FutureWarning: remove_na is deprecated and is a private function. Do not use.\n",
            "  box_data = remove_na(group_data)\n"
          ],
          "name": "stderr"
        },
        {
          "output_type": "display_data",
          "data": {
            "image/png": "[encoded data removed]",
            "text/plain": [
              "<Figure size 1440x720 with 14 Axes>"
            ]
          },
          "metadata": {
            "tags": []
          }
        }
      ]
    },
    {
      "metadata": {
        "id": "8mf6YXB4iOm1",
        "colab_type": "text"
      },
      "cell_type": "markdown",
      "source": [
        "Columns like CRIM, ZN, RM, B seems to have outliers. Let's see the outliers percentage in every column."
      ]
    },
    {
      "metadata": {
        "id": "TUq_7pw3hyPV",
        "colab_type": "code",
        "outputId": "041170d1-113e-4949-caf0-5fa24709a892",
        "colab": {
          "base_uri": "https://localhost:8080/",
          "height": 255
        }
      },
      "cell_type": "code",
      "source": [
        "# Let's see the outliers percentage in every column.\n",
        "for k, v in dataset.items():\n",
        "        q1 = v.quantile(0.25)\n",
        "        q3 = v.quantile(0.75)\n",
        "        irq = q3 - q1\n",
        "        v_col = v[(v <= q1 - 1.5 * irq) | (v >= q3 + 1.5 * irq)]\n",
        "        perc = np.shape(v_col)[0] * 100.0 / np.shape(dataset)[0]\n",
        "        print(\"Column %s outliers = %.2f%%\" % (k, perc))"
      ],
      "execution_count": 4,
      "outputs": [
        {
          "output_type": "stream",
          "text": [
            "Column CRIM outliers = 13.04%\n",
            "Column ZN outliers = 13.44%\n",
            "Column INDUS outliers = 0.00%\n",
            "Column CHAS outliers = 100.00%\n",
            "Column NOX outliers = 0.00%\n",
            "Column RM outliers = 5.93%\n",
            "Column AGE outliers = 0.00%\n",
            "Column DIS outliers = 0.99%\n",
            "Column RAD outliers = 0.00%\n",
            "Column TAX outliers = 0.00%\n",
            "Column PTRATIO outliers = 2.96%\n",
            "Column B outliers = 15.22%\n",
            "Column LSTAT outliers = 1.38%\n",
            "Column MEDV outliers = 7.91%\n"
          ],
          "name": "stdout"
        }
      ]
    },
    {
      "metadata": {
        "id": "qLtS4A9dk3pZ",
        "colab_type": "text"
      },
      "cell_type": "markdown",
      "source": [
        "## 3. Data Preprocessing"
      ]
    },
    {
      "metadata": {
        "id": "KSEJ6TM5iadh",
        "colab_type": "text"
      },
      "cell_type": "markdown",
      "source": [
        "Let's remove MEDV outliers (MEDV = 50.0)  and RM outliers (RM = 8.78) ."
      ]
    },
    {
      "metadata": {
        "id": "BIL57yEaibQW",
        "colab_type": "code",
        "outputId": "0d3addac-d89d-4bbd-dac2-dce48b655dfd",
        "colab": {
          "base_uri": "https://localhost:8080/",
          "height": 34
        }
      },
      "cell_type": "code",
      "source": [
        "dataset = dataset[~(dataset['MEDV'] >= 50.0)]\n",
        "dataset = dataset[~(dataset['RM'] >= 8.78)]\n",
        "print(np.shape(dataset))"
      ],
      "execution_count": 5,
      "outputs": [
        {
          "output_type": "stream",
          "text": [
            "(489, 14)\n"
          ],
          "name": "stdout"
        }
      ]
    },
    {
      "metadata": {
        "id": "IZQArKO1jwyj",
        "colab_type": "code",
        "outputId": "af7dfda4-64a6-4d9b-eefe-0dc96111d263",
        "colab": {
          "base_uri": "https://localhost:8080/",
          "height": 204
        }
      },
      "cell_type": "code",
      "source": [
        "y = dataset['MEDV']\n",
        "X = dataset.drop('MEDV', axis = 1)\n",
        "dataset.head()"
      ],
      "execution_count": 6,
      "outputs": [
        {
          "output_type": "execute_result",
          "data": {
            "text/html": [
              "<div>\n",
              "<style scoped>\n",
              "    .dataframe tbody tr th:only-of-type {\n",
              "        vertical-align: middle;\n",
              "    }\n",
              "\n",
              "    .dataframe tbody tr th {\n",
              "        vertical-align: top;\n",
              "    }\n",
              "\n",
              "    .dataframe thead th {\n",
              "        text-align: right;\n",
              "    }\n",
              "</style>\n",
              "<table border=\"1\" class=\"dataframe\">\n",
              "  <thead>\n",
              "    <tr style=\"text-align: right;\">\n",
              "      <th></th>\n",
              "      <th>CRIM</th>\n",
              "      <th>ZN</th>\n",
              "      <th>INDUS</th>\n",
              "      <th>CHAS</th>\n",
              "      <th>NOX</th>\n",
              "      <th>RM</th>\n",
              "      <th>AGE</th>\n",
              "      <th>DIS</th>\n",
              "      <th>RAD</th>\n",
              "      <th>TAX</th>\n",
              "      <th>PTRATIO</th>\n",
              "      <th>B</th>\n",
              "      <th>LSTAT</th>\n",
              "      <th>MEDV</th>\n",
              "    </tr>\n",
              "  </thead>\n",
              "  <tbody>\n",
              "    <tr>\n",
              "      <th>0</th>\n",
              "      <td>0.00632</td>\n",
              "      <td>18.0</td>\n",
              "      <td>2.31</td>\n",
              "      <td>0</td>\n",
              "      <td>0.538</td>\n",
              "      <td>6.575</td>\n",
              "      <td>65.2</td>\n",
              "      <td>4.0900</td>\n",
              "      <td>1</td>\n",
              "      <td>296.0</td>\n",
              "      <td>15.3</td>\n",
              "      <td>396.90</td>\n",
              "      <td>4.98</td>\n",
              "      <td>24.0</td>\n",
              "    </tr>\n",
              "    <tr>\n",
              "      <th>1</th>\n",
              "      <td>0.02731</td>\n",
              "      <td>0.0</td>\n",
              "      <td>7.07</td>\n",
              "      <td>0</td>\n",
              "      <td>0.469</td>\n",
              "      <td>6.421</td>\n",
              "      <td>78.9</td>\n",
              "      <td>4.9671</td>\n",
              "      <td>2</td>\n",
              "      <td>242.0</td>\n",
              "      <td>17.8</td>\n",
              "      <td>396.90</td>\n",
              "      <td>9.14</td>\n",
              "      <td>21.6</td>\n",
              "    </tr>\n",
              "    <tr>\n",
              "      <th>2</th>\n",
              "      <td>0.02729</td>\n",
              "      <td>0.0</td>\n",
              "      <td>7.07</td>\n",
              "      <td>0</td>\n",
              "      <td>0.469</td>\n",
              "      <td>7.185</td>\n",
              "      <td>61.1</td>\n",
              "      <td>4.9671</td>\n",
              "      <td>2</td>\n",
              "      <td>242.0</td>\n",
              "      <td>17.8</td>\n",
              "      <td>392.83</td>\n",
              "      <td>4.03</td>\n",
              "      <td>34.7</td>\n",
              "    </tr>\n",
              "    <tr>\n",
              "      <th>3</th>\n",
              "      <td>0.03237</td>\n",
              "      <td>0.0</td>\n",
              "      <td>2.18</td>\n",
              "      <td>0</td>\n",
              "      <td>0.458</td>\n",
              "      <td>6.998</td>\n",
              "      <td>45.8</td>\n",
              "      <td>6.0622</td>\n",
              "      <td>3</td>\n",
              "      <td>222.0</td>\n",
              "      <td>18.7</td>\n",
              "      <td>394.63</td>\n",
              "      <td>2.94</td>\n",
              "      <td>33.4</td>\n",
              "    </tr>\n",
              "    <tr>\n",
              "      <th>4</th>\n",
              "      <td>0.06905</td>\n",
              "      <td>0.0</td>\n",
              "      <td>2.18</td>\n",
              "      <td>0</td>\n",
              "      <td>0.458</td>\n",
              "      <td>7.147</td>\n",
              "      <td>54.2</td>\n",
              "      <td>6.0622</td>\n",
              "      <td>3</td>\n",
              "      <td>222.0</td>\n",
              "      <td>18.7</td>\n",
              "      <td>396.90</td>\n",
              "      <td>5.33</td>\n",
              "      <td>36.2</td>\n",
              "    </tr>\n",
              "  </tbody>\n",
              "</table>\n",
              "</div>"
            ],
            "text/plain": [
              "      CRIM    ZN  INDUS  CHAS    NOX     RM   AGE     DIS  RAD    TAX  \\\n",
              "0  0.00632  18.0   2.31     0  0.538  6.575  65.2  4.0900    1  296.0   \n",
              "1  0.02731   0.0   7.07     0  0.469  6.421  78.9  4.9671    2  242.0   \n",
              "2  0.02729   0.0   7.07     0  0.469  7.185  61.1  4.9671    2  242.0   \n",
              "3  0.03237   0.0   2.18     0  0.458  6.998  45.8  6.0622    3  222.0   \n",
              "4  0.06905   0.0   2.18     0  0.458  7.147  54.2  6.0622    3  222.0   \n",
              "\n",
              "   PTRATIO       B  LSTAT  MEDV  \n",
              "0     15.3  396.90   4.98  24.0  \n",
              "1     17.8  396.90   9.14  21.6  \n",
              "2     17.8  392.83   4.03  34.7  \n",
              "3     18.7  394.63   2.94  33.4  \n",
              "4     18.7  396.90   5.33  36.2  "
            ]
          },
          "metadata": {
            "tags": []
          },
          "execution_count": 6
        }
      ]
    },
    {
      "metadata": {
        "id": "NmzlayHilbSb",
        "colab_type": "code",
        "colab": {}
      },
      "cell_type": "code",
      "source": [
        "# Splitting the dataset into the Training set and Test set\n",
        "from sklearn.model_selection import train_test_split\n",
        "X_train, X_test, y_train, y_test = train_test_split(X, y, test_size=0.2, random_state=42)"
      ],
      "execution_count": 0,
      "outputs": []
    },
    {
      "metadata": {
        "id": "PIxEtNwMlS67",
        "colab_type": "text"
      },
      "cell_type": "markdown",
      "source": [
        "## 4. Fitting the Base Model"
      ]
    },
    {
      "metadata": {
        "id": "b-UiDZw8lQOD",
        "colab_type": "code",
        "outputId": "ef8dd0a2-7807-435b-f675-6d4da10d885b",
        "colab": {
          "base_uri": "https://localhost:8080/",
          "height": 119
        }
      },
      "cell_type": "code",
      "source": [
        "# Fitting the RandomForest Regression Model to the dataset\n",
        "from sklearn.ensemble import RandomForestRegressor\n",
        "regressor = RandomForestRegressor(n_estimators=1000, random_state=42)\n",
        "regressor.fit(X_train, y_train)"
      ],
      "execution_count": 8,
      "outputs": [
        {
          "output_type": "execute_result",
          "data": {
            "text/plain": [
              "RandomForestRegressor(bootstrap=True, criterion='mse', max_depth=None,\n",
              "           max_features='auto', max_leaf_nodes=None,\n",
              "           min_impurity_decrease=0.0, min_impurity_split=None,\n",
              "           min_samples_leaf=1, min_samples_split=2,\n",
              "           min_weight_fraction_leaf=0.0, n_estimators=1000, n_jobs=None,\n",
              "           oob_score=False, random_state=42, verbose=0, warm_start=False)"
            ]
          },
          "metadata": {
            "tags": []
          },
          "execution_count": 8
        }
      ]
    },
    {
      "metadata": {
        "id": "In501erDlhiL",
        "colab_type": "code",
        "colab": {}
      },
      "cell_type": "code",
      "source": [
        "# Predicting a new result\n",
        "y_pred = regressor.predict(X_test)"
      ],
      "execution_count": 0,
      "outputs": []
    },
    {
      "metadata": {
        "id": "wIiSxIM8ljwz",
        "colab_type": "code",
        "outputId": "716298fe-1b49-4c43-b389-339e1e9b3355",
        "colab": {
          "base_uri": "https://localhost:8080/",
          "height": 68
        }
      },
      "cell_type": "code",
      "source": [
        "# Calculating accuracy using r2_score\n",
        "from sklearn.metrics import r2_score\n",
        "train_score = round(regressor.score(X_train, y_train)*100,2)\n",
        "test_score = round(r2_score(y_test, y_pred)*100,2)\n",
        "print('----------------Model Performance---------------')\n",
        "print(\"Train_accuracy_Base :\" + str(train_score))\n",
        "print(\"Test_accuracy_Base :\" + str(test_score))"
      ],
      "execution_count": 10,
      "outputs": [
        {
          "output_type": "stream",
          "text": [
            "----------------Model Performance---------------\n",
            "Train_accuracy_Base :98.23\n",
            "Test_accuracy_Base :89.46\n"
          ],
          "name": "stdout"
        }
      ]
    },
    {
      "metadata": {
        "id": "bsULDtqOl5nz",
        "colab_type": "text"
      },
      "cell_type": "markdown",
      "source": [
        "## 5. Feature Reduction"
      ]
    },
    {
      "metadata": {
        "id": "btcN8ex7nYfJ",
        "colab_type": "text"
      },
      "cell_type": "markdown",
      "source": [
        "From previous experience and the graphs produced at the beginning, we know that some features are not useful for our problem. To reduce the number of features, which will reduce runtime, hopefully without significantly reducing performance, we can examine the feature importances from the random forest.\n",
        "\n"
      ]
    },
    {
      "metadata": {
        "id": "_RtdJePvobG1",
        "colab_type": "text"
      },
      "cell_type": "markdown",
      "source": [
        "**Feature Importances**"
      ]
    },
    {
      "metadata": {
        "id": "xDI1nHNzl-gk",
        "colab_type": "code",
        "colab": {}
      },
      "cell_type": "code",
      "source": [
        "# List of features for later use\n",
        "feature_list = list(X.columns)\n",
        "\n",
        "# Get numerical feature importances\n",
        "importances = list(regressor.feature_importances_)\n",
        "\n",
        "# List of tuples with variable and importance\n",
        "feature_importances = [(feature, round(importance, 2)) for feature, importance in zip(feature_list, importances)]\n",
        "\n",
        "# Sort the feature importances by most important first\n",
        "feature_importances = sorted(feature_importances, key = lambda x: x[1], reverse = True)"
      ],
      "execution_count": 0,
      "outputs": []
    },
    {
      "metadata": {
        "id": "vXHkrrtrnmlX",
        "colab_type": "code",
        "outputId": "097877b2-7a8f-40d7-a0b1-d1842074cd53",
        "colab": {
          "base_uri": "https://localhost:8080/",
          "height": 238
        }
      },
      "cell_type": "code",
      "source": [
        "# Print out the feature and importances \n",
        "[print('Variable: {:20} Importance: {}'.format(*pair)) for pair in feature_importances];"
      ],
      "execution_count": 12,
      "outputs": [
        {
          "output_type": "stream",
          "text": [
            "Variable: LSTAT                Importance: 0.44\n",
            "Variable: RM                   Importance: 0.39\n",
            "Variable: CRIM                 Importance: 0.04\n",
            "Variable: NOX                  Importance: 0.03\n",
            "Variable: DIS                  Importance: 0.02\n",
            "Variable: PTRATIO              Importance: 0.02\n",
            "Variable: INDUS                Importance: 0.01\n",
            "Variable: AGE                  Importance: 0.01\n",
            "Variable: TAX                  Importance: 0.01\n",
            "Variable: B                    Importance: 0.01\n",
            "Variable: ZN                   Importance: 0.0\n",
            "Variable: CHAS                 Importance: 0.0\n",
            "Variable: RAD                  Importance: 0.0\n"
          ],
          "name": "stdout"
        }
      ]
    },
    {
      "metadata": {
        "id": "BoeIoI52nslm",
        "colab_type": "text"
      },
      "cell_type": "markdown",
      "source": [
        " **Visualize Feature Importances**"
      ]
    },
    {
      "metadata": {
        "id": "x-T0mhNhnqHH",
        "colab_type": "code",
        "outputId": "a3072f76-0c89-4d13-e10c-7a7c551fa006",
        "colab": {
          "base_uri": "https://localhost:8080/",
          "height": 453
        }
      },
      "cell_type": "code",
      "source": [
        "# Reset style \n",
        "plt.style.use('fivethirtyeight')\n",
        "\n",
        "# list of x locations for plotting\n",
        "x_values = list(range(len(importances)))\n",
        "\n",
        "# Make a bar chart\n",
        "plt.bar(x_values, importances, orientation = 'vertical', color = 'r', edgecolor = 'k', linewidth = 1)\n",
        "\n",
        "# Tick labels for x axis\n",
        "plt.xticks(x_values, feature_list, rotation='vertical', fontsize=10)\n",
        "\n",
        "# Axis labels and title\n",
        "plt.ylabel('Importance', fontsize=12)\n",
        "plt.xlabel('Variable', fontsize=12)\n",
        "plt.title('Variable Importances', fontsize=16)"
      ],
      "execution_count": 13,
      "outputs": [
        {
          "output_type": "execute_result",
          "data": {
            "text/plain": [
              "Text(0.5, 1.0, 'Variable Importances')"
            ]
          },
          "metadata": {
            "tags": []
          },
          "execution_count": 13
        },
        {
          "output_type": "display_data",
          "data": {
            "image/png": "[encoded data removed]",
            "text/plain": [
              "<Figure size 576x396 with 1 Axes>"
            ]
          },
          "metadata": {
            "tags": []
          }
        }
      ]
    },
    {
      "metadata": {
        "id": "n9yb8bqxoA3h",
        "colab_type": "code",
        "colab": {}
      },
      "cell_type": "code",
      "source": [
        "# List of features sorted from most to least important\n",
        "sorted_importances = [importance[1] for importance in feature_importances]\n",
        "sorted_features = [importance[0] for importance in feature_importances]"
      ],
      "execution_count": 0,
      "outputs": []
    },
    {
      "metadata": {
        "id": "Z3mxwrgAoEqg",
        "colab_type": "code",
        "outputId": "ffcb17ed-e18e-43b4-9d49-dbe4c36a3382",
        "colab": {
          "base_uri": "https://localhost:8080/",
          "height": 459
        }
      },
      "cell_type": "code",
      "source": [
        "# Cumulative importances\n",
        "cumulative_importances = np.cumsum(sorted_importances)\n",
        "\n",
        "# Make a line graph\n",
        "plt.plot(x_values, cumulative_importances, 'g-')\n",
        "\n",
        "# Draw line at 95% of importance retained\n",
        "plt.hlines(y = 0.97, xmin=0, xmax=len(sorted_importances), color = 'r', linestyles = 'dashed')\n",
        "\n",
        "# Format x ticks and labels\n",
        "plt.xticks(x_values, sorted_features, rotation = 'vertical')\n",
        "\n",
        "# Axis labels and title\n",
        "plt.xlabel('Variable')\n",
        "plt.ylabel('Cumulative Importance') \n",
        "plt.title('Cumulative Importances')"
      ],
      "execution_count": 15,
      "outputs": [
        {
          "output_type": "execute_result",
          "data": {
            "text/plain": [
              "Text(0.5, 1.0, 'Cumulative Importances')"
            ]
          },
          "metadata": {
            "tags": []
          },
          "execution_count": 15
        },
        {
          "output_type": "display_data",
          "data": {
            "image/png": "[encoded data removed]",
            "text/plain": [
              "<Figure size 576x396 with 1 Axes>"
            ]
          },
          "metadata": {
            "tags": []
          }
        }
      ]
    },
    {
      "metadata": {
        "id": "bLq1jzZRoooa",
        "colab_type": "text"
      },
      "cell_type": "markdown",
      "source": [
        "**Limit Number of Features**"
      ]
    },
    {
      "metadata": {
        "id": "jBUSw4UEoucq",
        "colab_type": "text"
      },
      "cell_type": "markdown",
      "source": [
        "We will now reduce the number of features in use by the model to only those required to account for 97% of the importance. The same number of features must be used in the training and testing sets."
      ]
    },
    {
      "metadata": {
        "id": "z-lAfhJxoN5B",
        "colab_type": "code",
        "outputId": "8d69cc30-c5cb-455f-e0ca-546e41ddf1c6",
        "colab": {
          "base_uri": "https://localhost:8080/",
          "height": 34
        }
      },
      "cell_type": "code",
      "source": [
        "# Find number of features for cumulative importance of 97%\n",
        "# Add 1 because Python is zero-indexed\n",
        "print('Number of features for 97% importance:', np.where(cumulative_importances > 0.97)[0][0] + 1)"
      ],
      "execution_count": 16,
      "outputs": [
        {
          "output_type": "stream",
          "text": [
            "Number of features for 97% importance: 9\n"
          ],
          "name": "stdout"
        }
      ]
    },
    {
      "metadata": {
        "id": "qAG_yuYNowZg",
        "colab_type": "code",
        "outputId": "df8cf48b-726e-4575-8f45-23033eec7de0",
        "colab": {
          "base_uri": "https://localhost:8080/",
          "height": 51
        }
      },
      "cell_type": "code",
      "source": [
        "# Extract the names of the most important features\n",
        "important_feature_names = [feature[0] for feature in feature_importances[0:9]]\n",
        "# Find the columns of the most important features\n",
        "important_indices = [feature_list.index(feature) for feature in important_feature_names]\n",
        "\n",
        "# Create training and testing sets with only the important features\n",
        "important_train_features = X_train.iloc[:, important_indices]\n",
        "important_test_features = X_test.iloc[:, important_indices]\n",
        "\n",
        "# Sanity check on operations\n",
        "print('Important train features shape:', important_train_features.shape)\n",
        "print('Important test features shape:', important_test_features.shape)"
      ],
      "execution_count": 17,
      "outputs": [
        {
          "output_type": "stream",
          "text": [
            "Important train features shape: (391, 9)\n",
            "Important test features shape: (98, 9)\n"
          ],
          "name": "stdout"
        }
      ]
    },
    {
      "metadata": {
        "id": "NtxEGbSBxZez",
        "colab_type": "text"
      },
      "cell_type": "markdown",
      "source": [
        "**Training on Important Features**"
      ]
    },
    {
      "metadata": {
        "id": "fUSWB49YxAAJ",
        "colab_type": "code",
        "colab": {}
      },
      "cell_type": "code",
      "source": [
        "# Train the model on only the important features\n",
        "regressor.fit(important_train_features, y_train);"
      ],
      "execution_count": 0,
      "outputs": []
    },
    {
      "metadata": {
        "id": "bnPEwQetxjfa",
        "colab_type": "text"
      },
      "cell_type": "markdown",
      "source": [
        "**Evaluate on Important features**"
      ]
    },
    {
      "metadata": {
        "id": "JAfy0ZBTxTZE",
        "colab_type": "code",
        "colab": {}
      },
      "cell_type": "code",
      "source": [
        "# Make predictions on test data\n",
        "predictions = regressor.predict(important_test_features)"
      ],
      "execution_count": 0,
      "outputs": []
    },
    {
      "metadata": {
        "id": "PAZ3X3Dnxlge",
        "colab_type": "code",
        "outputId": "856ac03c-ea74-4832-d2f7-253099f57fbf",
        "colab": {
          "base_uri": "https://localhost:8080/",
          "height": 68
        }
      },
      "cell_type": "code",
      "source": [
        "# Calculating accuracy using r2_score\n",
        "from sklearn.metrics import r2_score\n",
        "train_score = round(regressor.score(important_train_features, y_train)*100,2)\n",
        "test_score = round(r2_score(y_test, predictions)*100,2)\n",
        "print('----------------Model Performance---------------')\n",
        "print(\"Train_accuracy_Reduced :\" + str(train_score))\n",
        "print(\"Test_accuracy_Reduced :\" + str(test_score))"
      ],
      "execution_count": 20,
      "outputs": [
        {
          "output_type": "stream",
          "text": [
            "----------------Model Performance---------------\n",
            "Train_accuracy_Reduced :98.2\n",
            "Test_accuracy_Reduced :89.0\n"
          ],
          "name": "stdout"
        }
      ]
    },
    {
      "metadata": {
        "id": "s4n5jpKTyaUg",
        "colab_type": "text"
      },
      "cell_type": "markdown",
      "source": [
        "Using only the 9 most important features (instead of all 13) results in a minor decrease in accuracy by 0.46 percent. For some models, decreasing the number of features can increase performance and therefore should be done. However, in other situations, performance will decrease but run time will also decrease. The final decision on how many features to retain will therefore be a trade-off between accuracy and run time."
      ]
    },
    {
      "metadata": {
        "id": "dQY-fRM8zHdG",
        "colab_type": "text"
      },
      "cell_type": "markdown",
      "source": [
        "## 6. Compare Trade-Offs"
      ]
    },
    {
      "metadata": {
        "id": "m6944T0lzCtN",
        "colab_type": "code",
        "outputId": "7686987d-86ae-462d-9fe1-7dece3282f3c",
        "colab": {
          "base_uri": "https://localhost:8080/",
          "height": 34
        }
      },
      "cell_type": "code",
      "source": [
        "# Use time library for run time evaluation\n",
        "import time\n",
        "\n",
        "# All features training and testing time\n",
        "all_features_time = []\n",
        "\n",
        "# Do 10 iterations and take average for all features\n",
        "for _ in range(10):\n",
        "    start_time = time.time()\n",
        "    regressor.fit(X_train, y_train)\n",
        "    all_features_predictions = regressor.predict(X_test)\n",
        "    end_time = time.time()\n",
        "    all_features_time.append(end_time - start_time)\n",
        "\n",
        "all_features_time = np.mean(all_features_time)\n",
        "print('All features total training and testing time:', round(all_features_time, 2), 'seconds.')"
      ],
      "execution_count": 21,
      "outputs": [
        {
          "output_type": "stream",
          "text": [
            "All features total training and testing time: 2.43 seconds.\n"
          ],
          "name": "stdout"
        }
      ]
    },
    {
      "metadata": {
        "id": "IrraDwlyzfqz",
        "colab_type": "code",
        "outputId": "c672b1f9-75d8-46e4-bcc1-6e8709198d7b",
        "colab": {
          "base_uri": "https://localhost:8080/",
          "height": 34
        }
      },
      "cell_type": "code",
      "source": [
        "# Time training and testing for reduced feature set\n",
        "reduced_features_time = []\n",
        "\n",
        "# Do 10 iterations and take average\n",
        "for _ in range(10):\n",
        "    start_time = time.time()\n",
        "    regressor.fit(important_train_features, y_train)\n",
        "    reduced_features_predictions = regressor.predict(important_test_features)\n",
        "    end_time = time.time()\n",
        "    reduced_features_time.append(end_time - start_time)\n",
        "\n",
        "reduced_features_time = np.mean(reduced_features_time)\n",
        "print('Reduced features total training and testing time:', round(reduced_features_time, 2), 'seconds.')"
      ],
      "execution_count": 22,
      "outputs": [
        {
          "output_type": "stream",
          "text": [
            "Reduced features total training and testing time: 2.11 seconds.\n"
          ],
          "name": "stdout"
        }
      ]
    },
    {
      "metadata": {
        "id": "4DH5Dvz-0KWi",
        "colab_type": "text"
      },
      "cell_type": "markdown",
      "source": [
        "**Accuracy vs Run-Time**"
      ]
    },
    {
      "metadata": {
        "id": "1f1tUYs10LJQ",
        "colab_type": "code",
        "outputId": "adb5e2d4-49cb-44f7-97fe-a3d1ea59eb5b",
        "colab": {
          "base_uri": "https://localhost:8080/",
          "height": 111
        }
      },
      "cell_type": "code",
      "source": [
        "all_accuracy =  round(r2_score(y_test, y_pred)*100,2)\n",
        "reduced_accuracy = round(r2_score(y_test, predictions)*100,2)\n",
        "\n",
        "comparison = pd.DataFrame({'features': ['all (17)', 'reduced (5)'], \n",
        "                           'run_time': [round(all_features_time, 2), round(reduced_features_time, 2)],\n",
        "                           'accuracy': [round(all_accuracy, 2), round(reduced_accuracy, 2)]})\n",
        "\n",
        "comparison[['features', 'accuracy', 'run_time']]"
      ],
      "execution_count": 23,
      "outputs": [
        {
          "output_type": "execute_result",
          "data": {
            "text/html": [
              "<div>\n",
              "<style scoped>\n",
              "    .dataframe tbody tr th:only-of-type {\n",
              "        vertical-align: middle;\n",
              "    }\n",
              "\n",
              "    .dataframe tbody tr th {\n",
              "        vertical-align: top;\n",
              "    }\n",
              "\n",
              "    .dataframe thead th {\n",
              "        text-align: right;\n",
              "    }\n",
              "</style>\n",
              "<table border=\"1\" class=\"dataframe\">\n",
              "  <thead>\n",
              "    <tr style=\"text-align: right;\">\n",
              "      <th></th>\n",
              "      <th>features</th>\n",
              "      <th>accuracy</th>\n",
              "      <th>run_time</th>\n",
              "    </tr>\n",
              "  </thead>\n",
              "  <tbody>\n",
              "    <tr>\n",
              "      <th>0</th>\n",
              "      <td>all (17)</td>\n",
              "      <td>89.46</td>\n",
              "      <td>2.43</td>\n",
              "    </tr>\n",
              "    <tr>\n",
              "      <th>1</th>\n",
              "      <td>reduced (5)</td>\n",
              "      <td>89.00</td>\n",
              "      <td>2.11</td>\n",
              "    </tr>\n",
              "  </tbody>\n",
              "</table>\n",
              "</div>"
            ],
            "text/plain": [
              "      features  accuracy  run_time\n",
              "0     all (17)     89.46      2.43\n",
              "1  reduced (5)     89.00      2.11"
            ]
          },
          "metadata": {
            "tags": []
          },
          "execution_count": 23
        }
      ]
    },
    {
      "metadata": {
        "id": "1k7fY9Ec029b",
        "colab_type": "code",
        "outputId": "53da639d-09c2-4da7-dbf4-12065affa29d",
        "colab": {
          "base_uri": "https://localhost:8080/",
          "height": 51
        }
      },
      "cell_type": "code",
      "source": [
        "\n",
        "relative_accuracy_decrease = 100 * (all_accuracy - reduced_accuracy) / all_accuracy\n",
        "print('Relative decrease in accuracy:', round(relative_accuracy_decrease, 3), '%.')\n",
        "\n",
        "relative_runtime_decrease = 100 * (all_features_time - reduced_features_time) / all_features_time\n",
        "print('Relative decrease in run time:', round(relative_runtime_decrease, 3), '%.')"
      ],
      "execution_count": 24,
      "outputs": [
        {
          "output_type": "stream",
          "text": [
            "Relative decrease in accuracy: 0.514 %.\n",
            "Relative decrease in run time: 13.288 %.\n"
          ],
          "name": "stdout"
        }
      ]
    },
    {
      "metadata": {
        "id": "7olg4RIp1dTn",
        "colab_type": "text"
      },
      "cell_type": "markdown",
      "source": [
        "**Thus, by reducing the number of features from 13 to 9, we decreased our run-time by 13.28% while suffering only a minor decrease in accuracy.**"
      ]
    }
  ]
}