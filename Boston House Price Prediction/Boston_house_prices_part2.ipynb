{
 "cells": [
  {
   "cell_type": "markdown",
   "metadata": {
    "colab_type": "text",
    "id": "0X63LPHJHX3-"
   },
   "source": [
    "# Random Forest Model with Automatic Feature Engineering"
   ]
  },
  {
   "cell_type": "markdown",
   "metadata": {
    "colab_type": "text",
    "id": "jtYd_vK7Hceh"
   },
   "source": [
    "In this notebook, we will focus on achieving better performance by providing more features to the model through Automatic Feature Engineering by using **Featuretools** which is an open source library for performing automated feature engineering."
   ]
  },
  {
   "cell_type": "markdown",
   "metadata": {
    "colab_type": "text",
    "id": "o8_9y5fwIQ27"
   },
   "source": [
    "## 1. Loading Data and Packages"
   ]
  },
  {
   "cell_type": "code",
   "execution_count": 1,
   "metadata": {
    "colab": {},
    "colab_type": "code",
    "id": "Mw2zv-XlFjKh"
   },
   "outputs": [],
   "source": [
    "# Importing Libraries\n",
    "import numpy as np\n",
    "import pandas as pd\n",
    "import matplotlib.pyplot as plt"
   ]
  },
  {
   "cell_type": "code",
   "execution_count": 2,
   "metadata": {
    "colab": {},
    "colab_type": "code",
    "id": "k08a05KWFjKo",
    "outputId": "25144266-dd78-4b60-eed6-5a40ba731f76"
   },
   "outputs": [
    {
     "data": {
      "text/html": [
       "<div>\n",
       "<style scoped>\n",
       "    .dataframe tbody tr th:only-of-type {\n",
       "        vertical-align: middle;\n",
       "    }\n",
       "\n",
       "    .dataframe tbody tr th {\n",
       "        vertical-align: top;\n",
       "    }\n",
       "\n",
       "    .dataframe thead th {\n",
       "        text-align: right;\n",
       "    }\n",
       "</style>\n",
       "<table border=\"1\" class=\"dataframe\">\n",
       "  <thead>\n",
       "    <tr style=\"text-align: right;\">\n",
       "      <th></th>\n",
       "      <th>CRIM</th>\n",
       "      <th>ZN</th>\n",
       "      <th>INDUS</th>\n",
       "      <th>CHAS</th>\n",
       "      <th>NOX</th>\n",
       "      <th>RM</th>\n",
       "      <th>AGE</th>\n",
       "      <th>DIS</th>\n",
       "      <th>RAD</th>\n",
       "      <th>TAX</th>\n",
       "      <th>PTRATIO</th>\n",
       "      <th>B</th>\n",
       "      <th>LSTAT</th>\n",
       "      <th>MEDV</th>\n",
       "    </tr>\n",
       "  </thead>\n",
       "  <tbody>\n",
       "    <tr>\n",
       "      <th>count</th>\n",
       "      <td>506.000000</td>\n",
       "      <td>506.000000</td>\n",
       "      <td>506.000000</td>\n",
       "      <td>506.000000</td>\n",
       "      <td>506.000000</td>\n",
       "      <td>506.000000</td>\n",
       "      <td>506.000000</td>\n",
       "      <td>506.000000</td>\n",
       "      <td>506.000000</td>\n",
       "      <td>506.000000</td>\n",
       "      <td>506.000000</td>\n",
       "      <td>506.000000</td>\n",
       "      <td>506.000000</td>\n",
       "      <td>506.000000</td>\n",
       "    </tr>\n",
       "    <tr>\n",
       "      <th>mean</th>\n",
       "      <td>3.613524</td>\n",
       "      <td>11.363636</td>\n",
       "      <td>11.136779</td>\n",
       "      <td>0.069170</td>\n",
       "      <td>0.554695</td>\n",
       "      <td>6.284634</td>\n",
       "      <td>68.574901</td>\n",
       "      <td>3.795043</td>\n",
       "      <td>9.549407</td>\n",
       "      <td>408.237154</td>\n",
       "      <td>18.455534</td>\n",
       "      <td>356.674032</td>\n",
       "      <td>12.653063</td>\n",
       "      <td>22.532806</td>\n",
       "    </tr>\n",
       "    <tr>\n",
       "      <th>std</th>\n",
       "      <td>8.601545</td>\n",
       "      <td>23.322453</td>\n",
       "      <td>6.860353</td>\n",
       "      <td>0.253994</td>\n",
       "      <td>0.115878</td>\n",
       "      <td>0.702617</td>\n",
       "      <td>28.148861</td>\n",
       "      <td>2.105710</td>\n",
       "      <td>8.707259</td>\n",
       "      <td>168.537116</td>\n",
       "      <td>2.164946</td>\n",
       "      <td>91.294864</td>\n",
       "      <td>7.141062</td>\n",
       "      <td>9.197104</td>\n",
       "    </tr>\n",
       "    <tr>\n",
       "      <th>min</th>\n",
       "      <td>0.006320</td>\n",
       "      <td>0.000000</td>\n",
       "      <td>0.460000</td>\n",
       "      <td>0.000000</td>\n",
       "      <td>0.385000</td>\n",
       "      <td>3.561000</td>\n",
       "      <td>2.900000</td>\n",
       "      <td>1.129600</td>\n",
       "      <td>1.000000</td>\n",
       "      <td>187.000000</td>\n",
       "      <td>12.600000</td>\n",
       "      <td>0.320000</td>\n",
       "      <td>1.730000</td>\n",
       "      <td>5.000000</td>\n",
       "    </tr>\n",
       "    <tr>\n",
       "      <th>25%</th>\n",
       "      <td>0.082045</td>\n",
       "      <td>0.000000</td>\n",
       "      <td>5.190000</td>\n",
       "      <td>0.000000</td>\n",
       "      <td>0.449000</td>\n",
       "      <td>5.885500</td>\n",
       "      <td>45.025000</td>\n",
       "      <td>2.100175</td>\n",
       "      <td>4.000000</td>\n",
       "      <td>279.000000</td>\n",
       "      <td>17.400000</td>\n",
       "      <td>375.377500</td>\n",
       "      <td>6.950000</td>\n",
       "      <td>17.025000</td>\n",
       "    </tr>\n",
       "    <tr>\n",
       "      <th>50%</th>\n",
       "      <td>0.256510</td>\n",
       "      <td>0.000000</td>\n",
       "      <td>9.690000</td>\n",
       "      <td>0.000000</td>\n",
       "      <td>0.538000</td>\n",
       "      <td>6.208500</td>\n",
       "      <td>77.500000</td>\n",
       "      <td>3.207450</td>\n",
       "      <td>5.000000</td>\n",
       "      <td>330.000000</td>\n",
       "      <td>19.050000</td>\n",
       "      <td>391.440000</td>\n",
       "      <td>11.360000</td>\n",
       "      <td>21.200000</td>\n",
       "    </tr>\n",
       "    <tr>\n",
       "      <th>75%</th>\n",
       "      <td>3.677082</td>\n",
       "      <td>12.500000</td>\n",
       "      <td>18.100000</td>\n",
       "      <td>0.000000</td>\n",
       "      <td>0.624000</td>\n",
       "      <td>6.623500</td>\n",
       "      <td>94.075000</td>\n",
       "      <td>5.188425</td>\n",
       "      <td>24.000000</td>\n",
       "      <td>666.000000</td>\n",
       "      <td>20.200000</td>\n",
       "      <td>396.225000</td>\n",
       "      <td>16.955000</td>\n",
       "      <td>25.000000</td>\n",
       "    </tr>\n",
       "    <tr>\n",
       "      <th>max</th>\n",
       "      <td>88.976200</td>\n",
       "      <td>100.000000</td>\n",
       "      <td>27.740000</td>\n",
       "      <td>1.000000</td>\n",
       "      <td>0.871000</td>\n",
       "      <td>8.780000</td>\n",
       "      <td>100.000000</td>\n",
       "      <td>12.126500</td>\n",
       "      <td>24.000000</td>\n",
       "      <td>711.000000</td>\n",
       "      <td>22.000000</td>\n",
       "      <td>396.900000</td>\n",
       "      <td>37.970000</td>\n",
       "      <td>50.000000</td>\n",
       "    </tr>\n",
       "  </tbody>\n",
       "</table>\n",
       "</div>"
      ],
      "text/plain": [
       "             CRIM          ZN       INDUS        CHAS         NOX          RM  \\\n",
       "count  506.000000  506.000000  506.000000  506.000000  506.000000  506.000000   \n",
       "mean     3.613524   11.363636   11.136779    0.069170    0.554695    6.284634   \n",
       "std      8.601545   23.322453    6.860353    0.253994    0.115878    0.702617   \n",
       "min      0.006320    0.000000    0.460000    0.000000    0.385000    3.561000   \n",
       "25%      0.082045    0.000000    5.190000    0.000000    0.449000    5.885500   \n",
       "50%      0.256510    0.000000    9.690000    0.000000    0.538000    6.208500   \n",
       "75%      3.677082   12.500000   18.100000    0.000000    0.624000    6.623500   \n",
       "max     88.976200  100.000000   27.740000    1.000000    0.871000    8.780000   \n",
       "\n",
       "              AGE         DIS         RAD         TAX     PTRATIO           B  \\\n",
       "count  506.000000  506.000000  506.000000  506.000000  506.000000  506.000000   \n",
       "mean    68.574901    3.795043    9.549407  408.237154   18.455534  356.674032   \n",
       "std     28.148861    2.105710    8.707259  168.537116    2.164946   91.294864   \n",
       "min      2.900000    1.129600    1.000000  187.000000   12.600000    0.320000   \n",
       "25%     45.025000    2.100175    4.000000  279.000000   17.400000  375.377500   \n",
       "50%     77.500000    3.207450    5.000000  330.000000   19.050000  391.440000   \n",
       "75%     94.075000    5.188425   24.000000  666.000000   20.200000  396.225000   \n",
       "max    100.000000   12.126500   24.000000  711.000000   22.000000  396.900000   \n",
       "\n",
       "            LSTAT        MEDV  \n",
       "count  506.000000  506.000000  \n",
       "mean    12.653063   22.532806  \n",
       "std      7.141062    9.197104  \n",
       "min      1.730000    5.000000  \n",
       "25%      6.950000   17.025000  \n",
       "50%     11.360000   21.200000  \n",
       "75%     16.955000   25.000000  \n",
       "max     37.970000   50.000000  "
      ]
     },
     "execution_count": 2,
     "metadata": {},
     "output_type": "execute_result"
    }
   ],
   "source": [
    "# Importing the dataset\n",
    "column_names = ['CRIM', 'ZN', 'INDUS', 'CHAS', 'NOX', 'RM', 'AGE', 'DIS', 'RAD', 'TAX', 'PTRATIO', 'B', 'LSTAT', 'MEDV']\n",
    "dataset = pd.read_csv('housing.csv', delim_whitespace=True, names=column_names)\n",
    "dataset.describe()"
   ]
  },
  {
   "cell_type": "markdown",
   "metadata": {
    "colab_type": "text",
    "id": "1SurcxzmIvcS"
   },
   "source": [
    "## 2. Data Preprocessing"
   ]
  },
  {
   "cell_type": "code",
   "execution_count": 3,
   "metadata": {
    "colab": {},
    "colab_type": "code",
    "id": "H3nMSCOXFjKv",
    "outputId": "9f271b71-9d91-4e65-cd03-111e5d278280"
   },
   "outputs": [],
   "source": [
    "dataset = dataset[~(dataset['MEDV'] >= 50.0)]\n",
    "dataset = dataset[~(dataset['RM'] >= 8.78)]"
   ]
  },
  {
   "cell_type": "markdown",
   "metadata": {
    "colab_type": "text",
    "id": "Xh4QfSZUI0Vx"
   },
   "source": [
    "**Restrict to the Most Important Features**"
   ]
  },
  {
   "cell_type": "markdown",
   "metadata": {
    "colab_type": "text",
    "id": "haWcqm4dJCx2"
   },
   "source": [
    "These were the nine features required to reach a total feature importance of 97% in the previous random forest notebook with Feature Reduction. We will use only these features in order to speed up the model."
   ]
  },
  {
   "cell_type": "code",
   "execution_count": 4,
   "metadata": {
    "colab": {},
    "colab_type": "code",
    "id": "mv0JMxa_Idfy"
   },
   "outputs": [
    {
     "data": {
      "text/html": [
       "<div>\n",
       "<style scoped>\n",
       "    .dataframe tbody tr th:only-of-type {\n",
       "        vertical-align: middle;\n",
       "    }\n",
       "\n",
       "    .dataframe tbody tr th {\n",
       "        vertical-align: top;\n",
       "    }\n",
       "\n",
       "    .dataframe thead th {\n",
       "        text-align: right;\n",
       "    }\n",
       "</style>\n",
       "<table border=\"1\" class=\"dataframe\">\n",
       "  <thead>\n",
       "    <tr style=\"text-align: right;\">\n",
       "      <th></th>\n",
       "      <th>CRIM</th>\n",
       "      <th>INDUS</th>\n",
       "      <th>NOX</th>\n",
       "      <th>RM</th>\n",
       "      <th>AGE</th>\n",
       "      <th>DIS</th>\n",
       "      <th>PTRATIO</th>\n",
       "      <th>LSTAT</th>\n",
       "      <th>MEDV</th>\n",
       "    </tr>\n",
       "  </thead>\n",
       "  <tbody>\n",
       "    <tr>\n",
       "      <th>0</th>\n",
       "      <td>0.00632</td>\n",
       "      <td>2.31</td>\n",
       "      <td>0.538</td>\n",
       "      <td>6.575</td>\n",
       "      <td>65.2</td>\n",
       "      <td>4.0900</td>\n",
       "      <td>15.3</td>\n",
       "      <td>4.98</td>\n",
       "      <td>24.0</td>\n",
       "    </tr>\n",
       "    <tr>\n",
       "      <th>1</th>\n",
       "      <td>0.02731</td>\n",
       "      <td>7.07</td>\n",
       "      <td>0.469</td>\n",
       "      <td>6.421</td>\n",
       "      <td>78.9</td>\n",
       "      <td>4.9671</td>\n",
       "      <td>17.8</td>\n",
       "      <td>9.14</td>\n",
       "      <td>21.6</td>\n",
       "    </tr>\n",
       "    <tr>\n",
       "      <th>2</th>\n",
       "      <td>0.02729</td>\n",
       "      <td>7.07</td>\n",
       "      <td>0.469</td>\n",
       "      <td>7.185</td>\n",
       "      <td>61.1</td>\n",
       "      <td>4.9671</td>\n",
       "      <td>17.8</td>\n",
       "      <td>4.03</td>\n",
       "      <td>34.7</td>\n",
       "    </tr>\n",
       "    <tr>\n",
       "      <th>3</th>\n",
       "      <td>0.03237</td>\n",
       "      <td>2.18</td>\n",
       "      <td>0.458</td>\n",
       "      <td>6.998</td>\n",
       "      <td>45.8</td>\n",
       "      <td>6.0622</td>\n",
       "      <td>18.7</td>\n",
       "      <td>2.94</td>\n",
       "      <td>33.4</td>\n",
       "    </tr>\n",
       "    <tr>\n",
       "      <th>4</th>\n",
       "      <td>0.06905</td>\n",
       "      <td>2.18</td>\n",
       "      <td>0.458</td>\n",
       "      <td>7.147</td>\n",
       "      <td>54.2</td>\n",
       "      <td>6.0622</td>\n",
       "      <td>18.7</td>\n",
       "      <td>5.33</td>\n",
       "      <td>36.2</td>\n",
       "    </tr>\n",
       "  </tbody>\n",
       "</table>\n",
       "</div>"
      ],
      "text/plain": [
       "      CRIM  INDUS    NOX     RM   AGE     DIS  PTRATIO  LSTAT  MEDV\n",
       "0  0.00632   2.31  0.538  6.575  65.2  4.0900     15.3   4.98  24.0\n",
       "1  0.02731   7.07  0.469  6.421  78.9  4.9671     17.8   9.14  21.6\n",
       "2  0.02729   7.07  0.469  7.185  61.1  4.9671     17.8   4.03  34.7\n",
       "3  0.03237   2.18  0.458  6.998  45.8  6.0622     18.7   2.94  33.4\n",
       "4  0.06905   2.18  0.458  7.147  54.2  6.0622     18.7   5.33  36.2"
      ]
     },
     "execution_count": 4,
     "metadata": {},
     "output_type": "execute_result"
    }
   ],
   "source": [
    "y = dataset['MEDV']\n",
    "dataset = dataset.drop(['ZN', 'CHAS', 'RAD', 'TAX', 'B'], axis=1)\n",
    "X = dataset.drop('MEDV', axis = 1)\n",
    "dataset.head()"
   ]
  },
  {
   "cell_type": "markdown",
   "metadata": {
    "colab_type": "text",
    "id": "-FG6zzbvI8MP"
   },
   "source": [
    "## 3. Implementation of Automatic Feature Engineering"
   ]
  },
  {
   "cell_type": "markdown",
   "metadata": {
    "colab_type": "text",
    "id": "i5sc77QGJ1rD"
   },
   "source": [
    "**Feature Engineering using Featuretools**"
   ]
  },
  {
   "cell_type": "code",
   "execution_count": 5,
   "metadata": {
    "colab": {},
    "colab_type": "code",
    "id": "O4qrAEWuFjK3",
    "outputId": "6d00e5b5-3478-4996-e564-982418f3c0a4"
   },
   "outputs": [
    {
     "data": {
      "text/plain": [
       "Entityset: prices\n",
       "  Entities:\n",
       "    boston [Rows: 489, Columns: 10]\n",
       "    lstat [Rows: 442, Columns: 1]\n",
       "  Relationships:\n",
       "    boston.LSTAT -> lstat.LSTAT"
      ]
     },
     "execution_count": 5,
     "metadata": {},
     "output_type": "execute_result"
    }
   ],
   "source": [
    "# Creating Entity set 'es' and adding Dataframe\n",
    "import featuretools as ft\n",
    "es = ft.EntitySet(id='prices')\n",
    "\n",
    "# Adding a dataframe to it\n",
    "es.entity_from_dataframe(entity_id='boston', dataframe = dataset, index='UNIQUE', make_index=True)\n",
    "es.normalize_entity(base_entity_id='boston', new_entity_id='lstat', index = 'LSTAT')"
   ]
  },
  {
   "cell_type": "code",
   "execution_count": 6,
   "metadata": {
    "colab": {},
    "colab_type": "code",
    "id": "F90IiJ9WFjK9",
    "outputId": "bcfce78d-d89a-4f50-f441-cbefb0f6f992"
   },
   "outputs": [
    {
     "name": "stdout",
     "output_type": "stream",
     "text": [
      "Built 58 features\n",
      "EntitySet scattered to workers in 2.865 seconds\n",
      "Elapsed: 00:03 | Remaining: 00:00 | Progress: 100%|██████████| Calculated: 11/11 chunks\n"
     ]
    }
   ],
   "source": [
    "# Building new features\n",
    "feature_matrix, feature_names = ft.dfs(entityset=es, target_entity='boston', max_depth=2, verbose=1, n_jobs=2)"
   ]
  },
  {
   "cell_type": "code",
   "execution_count": 7,
   "metadata": {
    "colab": {},
    "colab_type": "code",
    "id": "Fipt4UL8FjLE",
    "outputId": "e73dbbd7-d57a-4eaf-f600-f3092fc58380"
   },
   "outputs": [
    {
     "data": {
      "text/plain": [
       "Index(['CRIM', 'INDUS', 'NOX', 'RM', 'AGE', 'DIS', 'PTRATIO', 'LSTAT', 'MEDV',\n",
       "       'lstat.SUM(boston.CRIM)', 'lstat.SUM(boston.INDUS)',\n",
       "       'lstat.SUM(boston.NOX)', 'lstat.SUM(boston.RM)',\n",
       "       'lstat.SUM(boston.AGE)', 'lstat.SUM(boston.DIS)',\n",
       "       'lstat.SUM(boston.PTRATIO)', 'lstat.SUM(boston.MEDV)',\n",
       "       'lstat.STD(boston.CRIM)', 'lstat.STD(boston.INDUS)',\n",
       "       'lstat.STD(boston.NOX)', 'lstat.STD(boston.RM)',\n",
       "       'lstat.STD(boston.AGE)', 'lstat.STD(boston.DIS)',\n",
       "       'lstat.STD(boston.PTRATIO)', 'lstat.STD(boston.MEDV)',\n",
       "       'lstat.MAX(boston.CRIM)', 'lstat.MAX(boston.INDUS)',\n",
       "       'lstat.MAX(boston.NOX)', 'lstat.MAX(boston.RM)',\n",
       "       'lstat.MAX(boston.AGE)', 'lstat.MAX(boston.DIS)',\n",
       "       'lstat.MAX(boston.PTRATIO)', 'lstat.MAX(boston.MEDV)',\n",
       "       'lstat.SKEW(boston.CRIM)', 'lstat.SKEW(boston.INDUS)',\n",
       "       'lstat.SKEW(boston.NOX)', 'lstat.SKEW(boston.RM)',\n",
       "       'lstat.SKEW(boston.AGE)', 'lstat.SKEW(boston.DIS)',\n",
       "       'lstat.SKEW(boston.PTRATIO)', 'lstat.SKEW(boston.MEDV)',\n",
       "       'lstat.MIN(boston.CRIM)', 'lstat.MIN(boston.INDUS)',\n",
       "       'lstat.MIN(boston.NOX)', 'lstat.MIN(boston.RM)',\n",
       "       'lstat.MIN(boston.AGE)', 'lstat.MIN(boston.DIS)',\n",
       "       'lstat.MIN(boston.PTRATIO)', 'lstat.MIN(boston.MEDV)',\n",
       "       'lstat.MEAN(boston.CRIM)', 'lstat.MEAN(boston.INDUS)',\n",
       "       'lstat.MEAN(boston.NOX)', 'lstat.MEAN(boston.RM)',\n",
       "       'lstat.MEAN(boston.AGE)', 'lstat.MEAN(boston.DIS)',\n",
       "       'lstat.MEAN(boston.PTRATIO)', 'lstat.MEAN(boston.MEDV)',\n",
       "       'lstat.COUNT(boston)'],\n",
       "      dtype='object')"
      ]
     },
     "execution_count": 7,
     "metadata": {},
     "output_type": "execute_result"
    }
   ],
   "source": [
    "# Printing the new columns\n",
    "feature_matrix.columns"
   ]
  },
  {
   "cell_type": "code",
   "execution_count": 8,
   "metadata": {
    "colab": {},
    "colab_type": "code",
    "id": "LO9DpZKGFjLN",
    "outputId": "4ede6f32-cdcf-4d22-f55a-cd39b2f9771e"
   },
   "outputs": [
    {
     "data": {
      "text/html": [
       "<div>\n",
       "<style scoped>\n",
       "    .dataframe tbody tr th:only-of-type {\n",
       "        vertical-align: middle;\n",
       "    }\n",
       "\n",
       "    .dataframe tbody tr th {\n",
       "        vertical-align: top;\n",
       "    }\n",
       "\n",
       "    .dataframe thead th {\n",
       "        text-align: right;\n",
       "    }\n",
       "</style>\n",
       "<table border=\"1\" class=\"dataframe\">\n",
       "  <thead>\n",
       "    <tr style=\"text-align: right;\">\n",
       "      <th></th>\n",
       "      <th>CRIM</th>\n",
       "      <th>INDUS</th>\n",
       "      <th>NOX</th>\n",
       "      <th>RM</th>\n",
       "      <th>AGE</th>\n",
       "      <th>DIS</th>\n",
       "      <th>PTRATIO</th>\n",
       "      <th>LSTAT</th>\n",
       "      <th>MEDV</th>\n",
       "      <th>lstat.SUM(boston.CRIM)</th>\n",
       "      <th>...</th>\n",
       "      <th>lstat.MIN(boston.MEDV)</th>\n",
       "      <th>lstat.MEAN(boston.CRIM)</th>\n",
       "      <th>lstat.MEAN(boston.INDUS)</th>\n",
       "      <th>lstat.MEAN(boston.NOX)</th>\n",
       "      <th>lstat.MEAN(boston.RM)</th>\n",
       "      <th>lstat.MEAN(boston.AGE)</th>\n",
       "      <th>lstat.MEAN(boston.DIS)</th>\n",
       "      <th>lstat.MEAN(boston.PTRATIO)</th>\n",
       "      <th>lstat.MEAN(boston.MEDV)</th>\n",
       "      <th>lstat.COUNT(boston)</th>\n",
       "    </tr>\n",
       "    <tr>\n",
       "      <th>UNIQUE</th>\n",
       "      <th></th>\n",
       "      <th></th>\n",
       "      <th></th>\n",
       "      <th></th>\n",
       "      <th></th>\n",
       "      <th></th>\n",
       "      <th></th>\n",
       "      <th></th>\n",
       "      <th></th>\n",
       "      <th></th>\n",
       "      <th></th>\n",
       "      <th></th>\n",
       "      <th></th>\n",
       "      <th></th>\n",
       "      <th></th>\n",
       "      <th></th>\n",
       "      <th></th>\n",
       "      <th></th>\n",
       "      <th></th>\n",
       "      <th></th>\n",
       "      <th></th>\n",
       "    </tr>\n",
       "  </thead>\n",
       "  <tbody>\n",
       "    <tr>\n",
       "      <th>0</th>\n",
       "      <td>0.00632</td>\n",
       "      <td>2.31</td>\n",
       "      <td>0.538</td>\n",
       "      <td>6.575</td>\n",
       "      <td>65.2</td>\n",
       "      <td>4.0900</td>\n",
       "      <td>15.3</td>\n",
       "      <td>4.98</td>\n",
       "      <td>24.0</td>\n",
       "      <td>0.00632</td>\n",
       "      <td>...</td>\n",
       "      <td>24.0</td>\n",
       "      <td>0.006320</td>\n",
       "      <td>2.310</td>\n",
       "      <td>0.538</td>\n",
       "      <td>6.5750</td>\n",
       "      <td>65.20</td>\n",
       "      <td>4.09000</td>\n",
       "      <td>15.30</td>\n",
       "      <td>24.0</td>\n",
       "      <td>1</td>\n",
       "    </tr>\n",
       "    <tr>\n",
       "      <th>1</th>\n",
       "      <td>0.02731</td>\n",
       "      <td>7.07</td>\n",
       "      <td>0.469</td>\n",
       "      <td>6.421</td>\n",
       "      <td>78.9</td>\n",
       "      <td>4.9671</td>\n",
       "      <td>17.8</td>\n",
       "      <td>9.14</td>\n",
       "      <td>21.6</td>\n",
       "      <td>0.02731</td>\n",
       "      <td>...</td>\n",
       "      <td>21.6</td>\n",
       "      <td>0.027310</td>\n",
       "      <td>7.070</td>\n",
       "      <td>0.469</td>\n",
       "      <td>6.4210</td>\n",
       "      <td>78.90</td>\n",
       "      <td>4.96710</td>\n",
       "      <td>17.80</td>\n",
       "      <td>21.6</td>\n",
       "      <td>1</td>\n",
       "    </tr>\n",
       "    <tr>\n",
       "      <th>2</th>\n",
       "      <td>0.02729</td>\n",
       "      <td>7.07</td>\n",
       "      <td>0.469</td>\n",
       "      <td>7.185</td>\n",
       "      <td>61.1</td>\n",
       "      <td>4.9671</td>\n",
       "      <td>17.8</td>\n",
       "      <td>4.03</td>\n",
       "      <td>34.7</td>\n",
       "      <td>0.02729</td>\n",
       "      <td>...</td>\n",
       "      <td>34.7</td>\n",
       "      <td>0.027290</td>\n",
       "      <td>7.070</td>\n",
       "      <td>0.469</td>\n",
       "      <td>7.1850</td>\n",
       "      <td>61.10</td>\n",
       "      <td>4.96710</td>\n",
       "      <td>17.80</td>\n",
       "      <td>34.7</td>\n",
       "      <td>1</td>\n",
       "    </tr>\n",
       "    <tr>\n",
       "      <th>3</th>\n",
       "      <td>0.03237</td>\n",
       "      <td>2.18</td>\n",
       "      <td>0.458</td>\n",
       "      <td>6.998</td>\n",
       "      <td>45.8</td>\n",
       "      <td>6.0622</td>\n",
       "      <td>18.7</td>\n",
       "      <td>2.94</td>\n",
       "      <td>33.4</td>\n",
       "      <td>0.03237</td>\n",
       "      <td>...</td>\n",
       "      <td>33.4</td>\n",
       "      <td>0.032370</td>\n",
       "      <td>2.180</td>\n",
       "      <td>0.458</td>\n",
       "      <td>6.9980</td>\n",
       "      <td>45.80</td>\n",
       "      <td>6.06220</td>\n",
       "      <td>18.70</td>\n",
       "      <td>33.4</td>\n",
       "      <td>1</td>\n",
       "    </tr>\n",
       "    <tr>\n",
       "      <th>4</th>\n",
       "      <td>0.06905</td>\n",
       "      <td>2.18</td>\n",
       "      <td>0.458</td>\n",
       "      <td>7.147</td>\n",
       "      <td>54.2</td>\n",
       "      <td>6.0622</td>\n",
       "      <td>18.7</td>\n",
       "      <td>5.33</td>\n",
       "      <td>36.2</td>\n",
       "      <td>0.13569</td>\n",
       "      <td>...</td>\n",
       "      <td>29.4</td>\n",
       "      <td>0.067845</td>\n",
       "      <td>3.115</td>\n",
       "      <td>0.484</td>\n",
       "      <td>6.8465</td>\n",
       "      <td>43.65</td>\n",
       "      <td>4.59725</td>\n",
       "      <td>17.65</td>\n",
       "      <td>32.8</td>\n",
       "      <td>2</td>\n",
       "    </tr>\n",
       "  </tbody>\n",
       "</table>\n",
       "<p>5 rows × 58 columns</p>\n",
       "</div>"
      ],
      "text/plain": [
       "           CRIM  INDUS    NOX     RM   AGE     DIS  PTRATIO  LSTAT  MEDV  \\\n",
       "UNIQUE                                                                     \n",
       "0       0.00632   2.31  0.538  6.575  65.2  4.0900     15.3   4.98  24.0   \n",
       "1       0.02731   7.07  0.469  6.421  78.9  4.9671     17.8   9.14  21.6   \n",
       "2       0.02729   7.07  0.469  7.185  61.1  4.9671     17.8   4.03  34.7   \n",
       "3       0.03237   2.18  0.458  6.998  45.8  6.0622     18.7   2.94  33.4   \n",
       "4       0.06905   2.18  0.458  7.147  54.2  6.0622     18.7   5.33  36.2   \n",
       "\n",
       "        lstat.SUM(boston.CRIM)         ...           lstat.MIN(boston.MEDV)  \\\n",
       "UNIQUE                                 ...                                    \n",
       "0                      0.00632         ...                             24.0   \n",
       "1                      0.02731         ...                             21.6   \n",
       "2                      0.02729         ...                             34.7   \n",
       "3                      0.03237         ...                             33.4   \n",
       "4                      0.13569         ...                             29.4   \n",
       "\n",
       "        lstat.MEAN(boston.CRIM)  lstat.MEAN(boston.INDUS)  \\\n",
       "UNIQUE                                                      \n",
       "0                      0.006320                     2.310   \n",
       "1                      0.027310                     7.070   \n",
       "2                      0.027290                     7.070   \n",
       "3                      0.032370                     2.180   \n",
       "4                      0.067845                     3.115   \n",
       "\n",
       "        lstat.MEAN(boston.NOX)  lstat.MEAN(boston.RM)  lstat.MEAN(boston.AGE)  \\\n",
       "UNIQUE                                                                          \n",
       "0                        0.538                 6.5750                   65.20   \n",
       "1                        0.469                 6.4210                   78.90   \n",
       "2                        0.469                 7.1850                   61.10   \n",
       "3                        0.458                 6.9980                   45.80   \n",
       "4                        0.484                 6.8465                   43.65   \n",
       "\n",
       "        lstat.MEAN(boston.DIS)  lstat.MEAN(boston.PTRATIO)  \\\n",
       "UNIQUE                                                       \n",
       "0                      4.09000                       15.30   \n",
       "1                      4.96710                       17.80   \n",
       "2                      4.96710                       17.80   \n",
       "3                      6.06220                       18.70   \n",
       "4                      4.59725                       17.65   \n",
       "\n",
       "        lstat.MEAN(boston.MEDV)  lstat.COUNT(boston)  \n",
       "UNIQUE                                                \n",
       "0                          24.0                    1  \n",
       "1                          21.6                    1  \n",
       "2                          34.7                    1  \n",
       "3                          33.4                    1  \n",
       "4                          32.8                    2  \n",
       "\n",
       "[5 rows x 58 columns]"
      ]
     },
     "execution_count": 8,
     "metadata": {},
     "output_type": "execute_result"
    }
   ],
   "source": [
    "feature_matrix.head()"
   ]
  },
  {
   "cell_type": "code",
   "execution_count": 9,
   "metadata": {
    "colab": {},
    "colab_type": "code",
    "id": "qqywDVjBFjLV",
    "outputId": "6a525591-8710-4c50-f3ef-86ce4ed5e06e"
   },
   "outputs": [
    {
     "data": {
      "text/plain": [
       "CRIM                            0\n",
       "INDUS                           0\n",
       "NOX                             0\n",
       "RM                              0\n",
       "AGE                             0\n",
       "DIS                             0\n",
       "PTRATIO                         0\n",
       "LSTAT                           0\n",
       "MEDV                            0\n",
       "lstat.SUM(boston.CRIM)          0\n",
       "lstat.SUM(boston.INDUS)         0\n",
       "lstat.SUM(boston.NOX)           0\n",
       "lstat.SUM(boston.RM)            0\n",
       "lstat.SUM(boston.AGE)           0\n",
       "lstat.SUM(boston.DIS)           0\n",
       "lstat.SUM(boston.PTRATIO)       0\n",
       "lstat.SUM(boston.MEDV)          0\n",
       "lstat.STD(boston.CRIM)        400\n",
       "lstat.STD(boston.INDUS)       400\n",
       "lstat.STD(boston.NOX)         400\n",
       "lstat.STD(boston.RM)          400\n",
       "lstat.STD(boston.AGE)         400\n",
       "lstat.STD(boston.DIS)         400\n",
       "lstat.STD(boston.PTRATIO)     400\n",
       "lstat.STD(boston.MEDV)        400\n",
       "lstat.MAX(boston.CRIM)          0\n",
       "lstat.MAX(boston.INDUS)         0\n",
       "lstat.MAX(boston.NOX)           0\n",
       "lstat.MAX(boston.RM)            0\n",
       "lstat.MAX(boston.AGE)           0\n",
       "lstat.MAX(boston.DIS)           0\n",
       "lstat.MAX(boston.PTRATIO)       0\n",
       "lstat.MAX(boston.MEDV)          0\n",
       "lstat.SKEW(boston.CRIM)       474\n",
       "lstat.SKEW(boston.INDUS)      474\n",
       "lstat.SKEW(boston.NOX)        474\n",
       "lstat.SKEW(boston.RM)         474\n",
       "lstat.SKEW(boston.AGE)        474\n",
       "lstat.SKEW(boston.DIS)        474\n",
       "lstat.SKEW(boston.PTRATIO)    474\n",
       "lstat.SKEW(boston.MEDV)       474\n",
       "lstat.MIN(boston.CRIM)          0\n",
       "lstat.MIN(boston.INDUS)         0\n",
       "lstat.MIN(boston.NOX)           0\n",
       "lstat.MIN(boston.RM)            0\n",
       "lstat.MIN(boston.AGE)           0\n",
       "lstat.MIN(boston.DIS)           0\n",
       "lstat.MIN(boston.PTRATIO)       0\n",
       "lstat.MIN(boston.MEDV)          0\n",
       "lstat.MEAN(boston.CRIM)         0\n",
       "lstat.MEAN(boston.INDUS)        0\n",
       "lstat.MEAN(boston.NOX)          0\n",
       "lstat.MEAN(boston.RM)           0\n",
       "lstat.MEAN(boston.AGE)          0\n",
       "lstat.MEAN(boston.DIS)          0\n",
       "lstat.MEAN(boston.PTRATIO)      0\n",
       "lstat.MEAN(boston.MEDV)         0\n",
       "lstat.COUNT(boston)             0\n",
       "dtype: int64"
      ]
     },
     "execution_count": 9,
     "metadata": {},
     "output_type": "execute_result"
    }
   ],
   "source": [
    "# Checking if there are any null values present\n",
    "feature_matrix.isnull().sum()"
   ]
  },
  {
   "cell_type": "code",
   "execution_count": 10,
   "metadata": {
    "colab": {},
    "colab_type": "code",
    "id": "WareSuEVFjLe",
    "outputId": "299e9aac-d636-45be-f653-38827059b074"
   },
   "outputs": [
    {
     "data": {
      "text/plain": [
       "['lstat.STD(boston.CRIM)',\n",
       " 'lstat.STD(boston.INDUS)',\n",
       " 'lstat.STD(boston.NOX)',\n",
       " 'lstat.STD(boston.RM)',\n",
       " 'lstat.STD(boston.AGE)',\n",
       " 'lstat.STD(boston.DIS)',\n",
       " 'lstat.STD(boston.PTRATIO)',\n",
       " 'lstat.STD(boston.MEDV)',\n",
       " 'lstat.SKEW(boston.CRIM)',\n",
       " 'lstat.SKEW(boston.INDUS)',\n",
       " 'lstat.SKEW(boston.NOX)',\n",
       " 'lstat.SKEW(boston.RM)',\n",
       " 'lstat.SKEW(boston.AGE)',\n",
       " 'lstat.SKEW(boston.DIS)',\n",
       " 'lstat.SKEW(boston.PTRATIO)',\n",
       " 'lstat.SKEW(boston.MEDV)']"
      ]
     },
     "execution_count": 10,
     "metadata": {},
     "output_type": "execute_result"
    }
   ],
   "source": [
    "# Listing the column names which contain null values\n",
    "feature_matrix.columns[feature_matrix.isnull().any()].tolist()"
   ]
  },
  {
   "cell_type": "markdown",
   "metadata": {
    "colab_type": "text",
    "id": "DYlr4nbwLZsl"
   },
   "source": [
    "**Dropping the columns with null values because more than 70% of rows contain null values**."
   ]
  },
  {
   "cell_type": "code",
   "execution_count": 11,
   "metadata": {
    "colab": {},
    "colab_type": "code",
    "id": "xHgjGJ27FjLk"
   },
   "outputs": [],
   "source": [
    "feature_matrix = feature_matrix.drop(['lstat.STD(boston.CRIM)',\n",
    "                                      'lstat.STD(boston.INDUS)',\n",
    "                                      'lstat.STD(boston.NOX)',\n",
    "                                      'lstat.STD(boston.RM)',\n",
    "                                      'lstat.STD(boston.AGE)',\n",
    "                                      'lstat.STD(boston.DIS)',\n",
    "                                      'lstat.STD(boston.PTRATIO)',\n",
    "                                      'lstat.STD(boston.MEDV)',\n",
    "                                      'lstat.SKEW(boston.CRIM)',\n",
    "                                      'lstat.SKEW(boston.INDUS)',\n",
    "                                      'lstat.SKEW(boston.NOX)',\n",
    "                                      'lstat.SKEW(boston.RM)',\n",
    "                                      'lstat.SKEW(boston.AGE)',\n",
    "                                      'lstat.SKEW(boston.DIS)',\n",
    "                                      'lstat.SKEW(boston.PTRATIO)',\n",
    "                                      'lstat.SKEW(boston.MEDV)'], axis=1)"
   ]
  },
  {
   "cell_type": "code",
   "execution_count": 12,
   "metadata": {
    "colab": {},
    "colab_type": "code",
    "id": "XTIQVK9CFjLo",
    "outputId": "813d0e0a-b1ca-46a0-b5e4-9356b890e27c"
   },
   "outputs": [
    {
     "data": {
      "text/plain": [
       "CRIM                          0\n",
       "INDUS                         0\n",
       "NOX                           0\n",
       "RM                            0\n",
       "AGE                           0\n",
       "DIS                           0\n",
       "PTRATIO                       0\n",
       "LSTAT                         0\n",
       "MEDV                          0\n",
       "lstat.SUM(boston.CRIM)        0\n",
       "lstat.SUM(boston.INDUS)       0\n",
       "lstat.SUM(boston.NOX)         0\n",
       "lstat.SUM(boston.RM)          0\n",
       "lstat.SUM(boston.AGE)         0\n",
       "lstat.SUM(boston.DIS)         0\n",
       "lstat.SUM(boston.PTRATIO)     0\n",
       "lstat.SUM(boston.MEDV)        0\n",
       "lstat.MAX(boston.CRIM)        0\n",
       "lstat.MAX(boston.INDUS)       0\n",
       "lstat.MAX(boston.NOX)         0\n",
       "lstat.MAX(boston.RM)          0\n",
       "lstat.MAX(boston.AGE)         0\n",
       "lstat.MAX(boston.DIS)         0\n",
       "lstat.MAX(boston.PTRATIO)     0\n",
       "lstat.MAX(boston.MEDV)        0\n",
       "lstat.MIN(boston.CRIM)        0\n",
       "lstat.MIN(boston.INDUS)       0\n",
       "lstat.MIN(boston.NOX)         0\n",
       "lstat.MIN(boston.RM)          0\n",
       "lstat.MIN(boston.AGE)         0\n",
       "lstat.MIN(boston.DIS)         0\n",
       "lstat.MIN(boston.PTRATIO)     0\n",
       "lstat.MIN(boston.MEDV)        0\n",
       "lstat.MEAN(boston.CRIM)       0\n",
       "lstat.MEAN(boston.INDUS)      0\n",
       "lstat.MEAN(boston.NOX)        0\n",
       "lstat.MEAN(boston.RM)         0\n",
       "lstat.MEAN(boston.AGE)        0\n",
       "lstat.MEAN(boston.DIS)        0\n",
       "lstat.MEAN(boston.PTRATIO)    0\n",
       "lstat.MEAN(boston.MEDV)       0\n",
       "lstat.COUNT(boston)           0\n",
       "dtype: int64"
      ]
     },
     "execution_count": 12,
     "metadata": {},
     "output_type": "execute_result"
    }
   ],
   "source": [
    "# Again Checking if there are any null values present\n",
    "feature_matrix.isnull().sum()"
   ]
  },
  {
   "cell_type": "markdown",
   "metadata": {
    "colab_type": "text",
    "id": "EhKX4LfEPd8V"
   },
   "source": [
    "**Assigning the new feature matrix to X and y sets.**"
   ]
  },
  {
   "cell_type": "code",
   "execution_count": 13,
   "metadata": {
    "colab": {},
    "colab_type": "code",
    "id": "3kyPU90fFjLw"
   },
   "outputs": [],
   "source": [
    "y = feature_matrix['MEDV']\n",
    "X = feature_matrix.drop('MEDV', axis = 1)"
   ]
  },
  {
   "cell_type": "code",
   "execution_count": 14,
   "metadata": {
    "colab": {},
    "colab_type": "code",
    "id": "bKQeHariFjL3"
   },
   "outputs": [],
   "source": [
    "# Splitting the dataset into the Training set and Test set\n",
    "from sklearn.model_selection import train_test_split\n",
    "X_train, X_test, y_train, y_test = train_test_split(X, y, test_size = 0.2, random_state = 42)"
   ]
  },
  {
   "cell_type": "markdown",
   "metadata": {
    "colab_type": "text",
    "id": "Bbxaz15APux1"
   },
   "source": [
    "## 4. Fitting the Random Forest Regression Model"
   ]
  },
  {
   "cell_type": "code",
   "execution_count": 15,
   "metadata": {
    "colab": {},
    "colab_type": "code",
    "id": "FQbz2jnpFjL8",
    "outputId": "da14a737-e4df-4ec2-b17b-5228a1dff684"
   },
   "outputs": [
    {
     "data": {
      "text/plain": [
       "RandomForestRegressor(bootstrap=True, criterion='mse', max_depth=None,\n",
       "           max_features='auto', max_leaf_nodes=None,\n",
       "           min_impurity_decrease=0.0, min_impurity_split=None,\n",
       "           min_samples_leaf=1, min_samples_split=2,\n",
       "           min_weight_fraction_leaf=0.0, n_estimators=1000, n_jobs=None,\n",
       "           oob_score=False, random_state=42, verbose=0, warm_start=False)"
      ]
     },
     "execution_count": 15,
     "metadata": {},
     "output_type": "execute_result"
    }
   ],
   "source": [
    "# Fitting the Regression Model to the dataset\n",
    "from sklearn.ensemble import RandomForestRegressor\n",
    "regressor = RandomForestRegressor(n_estimators=1000, random_state=42)\n",
    "regressor.fit(X_train, y_train)"
   ]
  },
  {
   "cell_type": "code",
   "execution_count": 16,
   "metadata": {
    "colab": {},
    "colab_type": "code",
    "id": "QfHUnmGPFjMB"
   },
   "outputs": [],
   "source": [
    "# Predicting a new result\n",
    "y_pred = regressor.predict(X_test)"
   ]
  },
  {
   "cell_type": "code",
   "execution_count": 17,
   "metadata": {
    "colab": {},
    "colab_type": "code",
    "id": "Hvqxo6L8FjMG",
    "outputId": "3ceb9cf3-a822-42b7-9433-2b67928a79b6"
   },
   "outputs": [
    {
     "name": "stdout",
     "output_type": "stream",
     "text": [
      "----------------Model Performance---------------\n",
      "Train_accuracy :99.36\n",
      "Test_accuracy :94.23\n"
     ]
    }
   ],
   "source": [
    "# Calculating accuracy using r2_score\n",
    "from sklearn.metrics import r2_score\n",
    "train_score = round(regressor.score(X_train, y_train)*100,2)\n",
    "test_score = round(r2_score(y_test, y_pred)*100,2)\n",
    "print('----------------Model Performance---------------')\n",
    "print(\"Train_accuracy :\" + str(train_score))\n",
    "print(\"Test_accuracy :\" + str(test_score))"
   ]
  },
  {
   "cell_type": "markdown",
   "metadata": {
    "colab_type": "text",
    "id": "v8ek56hMP_LN"
   },
   "source": [
    "## 5. Applying K-Fold Cross Validation"
   ]
  },
  {
   "cell_type": "markdown",
   "metadata": {
    "colab_type": "text",
    "id": "EaGob4IeQJ9h"
   },
   "source": [
    "Using K-Fold to evaluate the model's performace on 10 different test sets so that we can be more sure of our accuracy and find a mean accuracy for our model."
   ]
  },
  {
   "cell_type": "code",
   "execution_count": 18,
   "metadata": {
    "colab": {},
    "colab_type": "code",
    "id": "iOJqdIGWFjMM",
    "outputId": "ee576feb-5e1a-4b6b-8835-bcc45def1e67"
   },
   "outputs": [
    {
     "name": "stdout",
     "output_type": "stream",
     "text": [
      "[0.93416882 0.93127763 0.95289943 0.97747262 0.96309391 0.94878883\n",
      " 0.97743575 0.9787996  0.95984424 0.93424281]\n",
      "Mean_test_accuracy :95.58\n"
     ]
    }
   ],
   "source": [
    "# Applying K-Fold Cross Validation\n",
    "from sklearn.model_selection import cross_val_score\n",
    "accuracies = cross_val_score(estimator=regressor, X=X_train, y=y_train, cv=10)\n",
    "mean_accuracy = round(accuracies.mean()*100,2)\n",
    "print(accuracies)\n",
    "print(\"Mean_test_accuracy :\" + str(mean_accuracy))"
   ]
  }
 ],
 "metadata": {
  "colab": {
   "name": "Boston_house_prices_part2.ipynb",
   "provenance": [],
   "version": "0.3.2"
  },
  "kernelspec": {
   "display_name": "Python 3",
   "language": "python",
   "name": "python3"
  },
  "language_info": {
   "codemirror_mode": {
    "name": "ipython",
    "version": 3
   },
   "file_extension": ".py",
   "mimetype": "text/x-python",
   "name": "python",
   "nbconvert_exporter": "python",
   "pygments_lexer": "ipython3",
   "version": "3.6.8"
  }
 },
 "nbformat": 4,
 "nbformat_minor": 1
}
