{
  "nbformat": 4,
  "nbformat_minor": 0,
  "metadata": {
    "colab": {
      "name": "Sentiment-Analysis-for-Review-Classification.ipynb",
      "version": "0.3.2",
      "provenance": [],
      "collapsed_sections": []
    },
    "kernelspec": {
      "name": "python3",
      "display_name": "Python 3"
    },
    "accelerator": "GPU"
  },
  "cells": [
    {
      "metadata": {
        "id": "xaNIUn8b1BhN",
        "colab_type": "text"
      },
      "cell_type": "markdown",
      "source": [
        "#Sentiment Analysis for Review Classification"
      ]
    },
    {
      "metadata": {
        "id": "Ozgzl-za1FyW",
        "colab_type": "text"
      },
      "cell_type": "markdown",
      "source": [
        "In this project, we will build a simple text classifier using Python’s Pandas, NLTK and Scikit-learn libraries. Our goal is to build a sentiment analysis model that predicts whether a user liked a local business or not, based on their review on **Yelp**.\n",
        "\n"
      ]
    },
    {
      "metadata": {
        "id": "CQSm8mDh1e1x",
        "colab_type": "text"
      },
      "cell_type": "markdown",
      "source": [
        "##Data"
      ]
    },
    {
      "metadata": {
        "id": "_PVxvMTN17_M",
        "colab_type": "text"
      },
      "cell_type": "markdown",
      "source": [
        "Our data contains 10,000 reviews, with the following information for each one:\n",
        "* business_id (ID of the business being reviewed)\n",
        "* date (Day the review was posted)\n",
        "* review_id (ID for the posted review)\n",
        "* stars (1–5 rating for the business)\n",
        "* text (Review text)\n",
        "* type (Type of text)\n",
        "* user_id (User’s id)\n",
        "* {cool / useful / funny} (Comments on the review, given by other users)"
      ]
    },
    {
      "metadata": {
        "id": "ntVigYcW2MQJ",
        "colab_type": "text"
      },
      "cell_type": "markdown",
      "source": [
        "##1. Loading Data and Packages"
      ]
    },
    {
      "metadata": {
        "id": "0W4wyueNdddb",
        "colab_type": "code",
        "colab": {}
      },
      "cell_type": "code",
      "source": [
        "# Importing libraries\n",
        "import pandas as pd\n",
        "import numpy as np\n",
        "import matplotlib.pyplot as plt\n",
        "import seaborn as sns\n",
        "import nltk\n",
        "from nltk.corpus import stopwords"
      ],
      "execution_count": 0,
      "outputs": []
    },
    {
      "metadata": {
        "id": "ic-mG4Z4dudC",
        "colab_type": "code",
        "colab": {
          "base_uri": "https://localhost:8080/",
          "height": 34
        },
        "outputId": "72baae68-8108-4034-dc51-568da4babc41"
      },
      "cell_type": "code",
      "source": [
        "# Loading the dataset\n",
        "dataset = pd.read_csv('yelp.csv')\n",
        "dataset.shape"
      ],
      "execution_count": 2,
      "outputs": [
        {
          "output_type": "execute_result",
          "data": {
            "text/plain": [
              "(10000, 10)"
            ]
          },
          "metadata": {
            "tags": []
          },
          "execution_count": 2
        }
      ]
    },
    {
      "metadata": {
        "id": "g-3b9xLF3EhY",
        "colab_type": "text"
      },
      "cell_type": "markdown",
      "source": [
        "##2. Exploratory Analysis"
      ]
    },
    {
      "metadata": {
        "id": "PTikDWWs4k1O",
        "colab_type": "text"
      },
      "cell_type": "markdown",
      "source": [
        "We can lean more about the dataset using the **.head()**, **.info()**, and **.describe()** method available in [pandas](https://pandas.pydata.org/) library."
      ]
    },
    {
      "metadata": {
        "id": "H0LM8wPfdu5K",
        "colab_type": "code",
        "colab": {
          "base_uri": "https://localhost:8080/",
          "height": 680
        },
        "outputId": "009931df-d283-40fd-ed2a-4030114aeec4"
      },
      "cell_type": "code",
      "source": [
        "dataset.head()"
      ],
      "execution_count": 3,
      "outputs": [
        {
          "output_type": "execute_result",
          "data": {
            "text/html": [
              "<div>\n",
              "<style scoped>\n",
              "    .dataframe tbody tr th:only-of-type {\n",
              "        vertical-align: middle;\n",
              "    }\n",
              "\n",
              "    .dataframe tbody tr th {\n",
              "        vertical-align: top;\n",
              "    }\n",
              "\n",
              "    .dataframe thead th {\n",
              "        text-align: right;\n",
              "    }\n",
              "</style>\n",
              "<table border=\"1\" class=\"dataframe\">\n",
              "  <thead>\n",
              "    <tr style=\"text-align: right;\">\n",
              "      <th></th>\n",
              "      <th>business_id</th>\n",
              "      <th>date</th>\n",
              "      <th>review_id</th>\n",
              "      <th>stars</th>\n",
              "      <th>text</th>\n",
              "      <th>type</th>\n",
              "      <th>user_id</th>\n",
              "      <th>cool</th>\n",
              "      <th>useful</th>\n",
              "      <th>funny</th>\n",
              "    </tr>\n",
              "  </thead>\n",
              "  <tbody>\n",
              "    <tr>\n",
              "      <th>0</th>\n",
              "      <td>9yKzy9PApeiPPOUJEtnvkg</td>\n",
              "      <td>2011-01-26</td>\n",
              "      <td>fWKvX83p0-ka4JS3dc6E5A</td>\n",
              "      <td>5</td>\n",
              "      <td>My wife took me here on my birthday for breakf...</td>\n",
              "      <td>review</td>\n",
              "      <td>rLtl8ZkDX5vH5nAx9C3q5Q</td>\n",
              "      <td>2</td>\n",
              "      <td>5</td>\n",
              "      <td>0</td>\n",
              "    </tr>\n",
              "    <tr>\n",
              "      <th>1</th>\n",
              "      <td>ZRJwVLyzEJq1VAihDhYiow</td>\n",
              "      <td>2011-07-27</td>\n",
              "      <td>IjZ33sJrzXqU-0X6U8NwyA</td>\n",
              "      <td>5</td>\n",
              "      <td>I have no idea why some people give bad review...</td>\n",
              "      <td>review</td>\n",
              "      <td>0a2KyEL0d3Yb1V6aivbIuQ</td>\n",
              "      <td>0</td>\n",
              "      <td>0</td>\n",
              "      <td>0</td>\n",
              "    </tr>\n",
              "    <tr>\n",
              "      <th>2</th>\n",
              "      <td>6oRAC4uyJCsJl1X0WZpVSA</td>\n",
              "      <td>2012-06-14</td>\n",
              "      <td>IESLBzqUCLdSzSqm0eCSxQ</td>\n",
              "      <td>4</td>\n",
              "      <td>love the gyro plate. Rice is so good and I als...</td>\n",
              "      <td>review</td>\n",
              "      <td>0hT2KtfLiobPvh6cDC8JQg</td>\n",
              "      <td>0</td>\n",
              "      <td>1</td>\n",
              "      <td>0</td>\n",
              "    </tr>\n",
              "    <tr>\n",
              "      <th>3</th>\n",
              "      <td>_1QQZuf4zZOyFCvXc0o6Vg</td>\n",
              "      <td>2010-05-27</td>\n",
              "      <td>G-WvGaISbqqaMHlNnByodA</td>\n",
              "      <td>5</td>\n",
              "      <td>Rosie, Dakota, and I LOVE Chaparral Dog Park!!...</td>\n",
              "      <td>review</td>\n",
              "      <td>uZetl9T0NcROGOyFfughhg</td>\n",
              "      <td>1</td>\n",
              "      <td>2</td>\n",
              "      <td>0</td>\n",
              "    </tr>\n",
              "    <tr>\n",
              "      <th>4</th>\n",
              "      <td>6ozycU1RpktNG2-1BroVtw</td>\n",
              "      <td>2012-01-05</td>\n",
              "      <td>1uJFq2r5QfJG_6ExMRCaGw</td>\n",
              "      <td>5</td>\n",
              "      <td>General Manager Scott Petello is a good egg!!!...</td>\n",
              "      <td>review</td>\n",
              "      <td>vYmM4KTsC8ZfQBg-j5MWkw</td>\n",
              "      <td>0</td>\n",
              "      <td>0</td>\n",
              "      <td>0</td>\n",
              "    </tr>\n",
              "  </tbody>\n",
              "</table>\n",
              "</div>"
            ],
            "text/plain": [
              "              business_id        date               review_id  stars  \\\n",
              "0  9yKzy9PApeiPPOUJEtnvkg  2011-01-26  fWKvX83p0-ka4JS3dc6E5A      5   \n",
              "1  ZRJwVLyzEJq1VAihDhYiow  2011-07-27  IjZ33sJrzXqU-0X6U8NwyA      5   \n",
              "2  6oRAC4uyJCsJl1X0WZpVSA  2012-06-14  IESLBzqUCLdSzSqm0eCSxQ      4   \n",
              "3  _1QQZuf4zZOyFCvXc0o6Vg  2010-05-27  G-WvGaISbqqaMHlNnByodA      5   \n",
              "4  6ozycU1RpktNG2-1BroVtw  2012-01-05  1uJFq2r5QfJG_6ExMRCaGw      5   \n",
              "\n",
              "                                                text    type  \\\n",
              "0  My wife took me here on my birthday for breakf...  review   \n",
              "1  I have no idea why some people give bad review...  review   \n",
              "2  love the gyro plate. Rice is so good and I als...  review   \n",
              "3  Rosie, Dakota, and I LOVE Chaparral Dog Park!!...  review   \n",
              "4  General Manager Scott Petello is a good egg!!!...  review   \n",
              "\n",
              "                  user_id  cool  useful  funny  \n",
              "0  rLtl8ZkDX5vH5nAx9C3q5Q     2       5      0  \n",
              "1  0a2KyEL0d3Yb1V6aivbIuQ     0       0      0  \n",
              "2  0hT2KtfLiobPvh6cDC8JQg     0       1      0  \n",
              "3  uZetl9T0NcROGOyFfughhg     1       2      0  \n",
              "4  vYmM4KTsC8ZfQBg-j5MWkw     0       0      0  "
            ]
          },
          "metadata": {
            "tags": []
          },
          "execution_count": 3
        }
      ]
    },
    {
      "metadata": {
        "id": "qlNQYJFYe4Id",
        "colab_type": "code",
        "colab": {
          "base_uri": "https://localhost:8080/",
          "height": 272
        },
        "outputId": "974e0827-b966-4675-f001-43764428fe56"
      },
      "cell_type": "code",
      "source": [
        "dataset.info()"
      ],
      "execution_count": 4,
      "outputs": [
        {
          "output_type": "stream",
          "text": [
            "<class 'pandas.core.frame.DataFrame'>\n",
            "RangeIndex: 10000 entries, 0 to 9999\n",
            "Data columns (total 10 columns):\n",
            "business_id    10000 non-null object\n",
            "date           10000 non-null object\n",
            "review_id      10000 non-null object\n",
            "stars          10000 non-null int64\n",
            "text           10000 non-null object\n",
            "type           10000 non-null object\n",
            "user_id        10000 non-null object\n",
            "cool           10000 non-null int64\n",
            "useful         10000 non-null int64\n",
            "funny          10000 non-null int64\n",
            "dtypes: int64(4), object(6)\n",
            "memory usage: 781.3+ KB\n"
          ],
          "name": "stdout"
        }
      ]
    },
    {
      "metadata": {
        "id": "otJV8FRQe-TN",
        "colab_type": "code",
        "colab": {
          "base_uri": "https://localhost:8080/",
          "height": 297
        },
        "outputId": "1204c7c1-ce5d-4505-d48c-b022c74a05b9"
      },
      "cell_type": "code",
      "source": [
        "dataset.describe()"
      ],
      "execution_count": 5,
      "outputs": [
        {
          "output_type": "execute_result",
          "data": {
            "text/html": [
              "<div>\n",
              "<style scoped>\n",
              "    .dataframe tbody tr th:only-of-type {\n",
              "        vertical-align: middle;\n",
              "    }\n",
              "\n",
              "    .dataframe tbody tr th {\n",
              "        vertical-align: top;\n",
              "    }\n",
              "\n",
              "    .dataframe thead th {\n",
              "        text-align: right;\n",
              "    }\n",
              "</style>\n",
              "<table border=\"1\" class=\"dataframe\">\n",
              "  <thead>\n",
              "    <tr style=\"text-align: right;\">\n",
              "      <th></th>\n",
              "      <th>stars</th>\n",
              "      <th>cool</th>\n",
              "      <th>useful</th>\n",
              "      <th>funny</th>\n",
              "    </tr>\n",
              "  </thead>\n",
              "  <tbody>\n",
              "    <tr>\n",
              "      <th>count</th>\n",
              "      <td>10000.000000</td>\n",
              "      <td>10000.000000</td>\n",
              "      <td>10000.000000</td>\n",
              "      <td>10000.000000</td>\n",
              "    </tr>\n",
              "    <tr>\n",
              "      <th>mean</th>\n",
              "      <td>3.777500</td>\n",
              "      <td>0.876800</td>\n",
              "      <td>1.409300</td>\n",
              "      <td>0.701300</td>\n",
              "    </tr>\n",
              "    <tr>\n",
              "      <th>std</th>\n",
              "      <td>1.214636</td>\n",
              "      <td>2.067861</td>\n",
              "      <td>2.336647</td>\n",
              "      <td>1.907942</td>\n",
              "    </tr>\n",
              "    <tr>\n",
              "      <th>min</th>\n",
              "      <td>1.000000</td>\n",
              "      <td>0.000000</td>\n",
              "      <td>0.000000</td>\n",
              "      <td>0.000000</td>\n",
              "    </tr>\n",
              "    <tr>\n",
              "      <th>25%</th>\n",
              "      <td>3.000000</td>\n",
              "      <td>0.000000</td>\n",
              "      <td>0.000000</td>\n",
              "      <td>0.000000</td>\n",
              "    </tr>\n",
              "    <tr>\n",
              "      <th>50%</th>\n",
              "      <td>4.000000</td>\n",
              "      <td>0.000000</td>\n",
              "      <td>1.000000</td>\n",
              "      <td>0.000000</td>\n",
              "    </tr>\n",
              "    <tr>\n",
              "      <th>75%</th>\n",
              "      <td>5.000000</td>\n",
              "      <td>1.000000</td>\n",
              "      <td>2.000000</td>\n",
              "      <td>1.000000</td>\n",
              "    </tr>\n",
              "    <tr>\n",
              "      <th>max</th>\n",
              "      <td>5.000000</td>\n",
              "      <td>77.000000</td>\n",
              "      <td>76.000000</td>\n",
              "      <td>57.000000</td>\n",
              "    </tr>\n",
              "  </tbody>\n",
              "</table>\n",
              "</div>"
            ],
            "text/plain": [
              "              stars          cool        useful         funny\n",
              "count  10000.000000  10000.000000  10000.000000  10000.000000\n",
              "mean       3.777500      0.876800      1.409300      0.701300\n",
              "std        1.214636      2.067861      2.336647      1.907942\n",
              "min        1.000000      0.000000      0.000000      0.000000\n",
              "25%        3.000000      0.000000      0.000000      0.000000\n",
              "50%        4.000000      0.000000      1.000000      0.000000\n",
              "75%        5.000000      1.000000      2.000000      1.000000\n",
              "max        5.000000     77.000000     76.000000     57.000000"
            ]
          },
          "metadata": {
            "tags": []
          },
          "execution_count": 5
        }
      ]
    },
    {
      "metadata": {
        "id": "Mk5_Uf165TYz",
        "colab_type": "text"
      },
      "cell_type": "markdown",
      "source": [
        "To get an insight on the length of each review, we will create a new column in dataset called text length. This column will store the number of characters in each review."
      ]
    },
    {
      "metadata": {
        "id": "__6ySl0_fCVb",
        "colab_type": "code",
        "colab": {
          "base_uri": "https://localhost:8080/",
          "height": 717
        },
        "outputId": "c8ff09f2-e47a-40b7-ebf6-cbb85120dba5"
      },
      "cell_type": "code",
      "source": [
        "dataset['text length'] = dataset['text'].apply(len)\n",
        "dataset.head()"
      ],
      "execution_count": 6,
      "outputs": [
        {
          "output_type": "execute_result",
          "data": {
            "text/html": [
              "<div>\n",
              "<style scoped>\n",
              "    .dataframe tbody tr th:only-of-type {\n",
              "        vertical-align: middle;\n",
              "    }\n",
              "\n",
              "    .dataframe tbody tr th {\n",
              "        vertical-align: top;\n",
              "    }\n",
              "\n",
              "    .dataframe thead th {\n",
              "        text-align: right;\n",
              "    }\n",
              "</style>\n",
              "<table border=\"1\" class=\"dataframe\">\n",
              "  <thead>\n",
              "    <tr style=\"text-align: right;\">\n",
              "      <th></th>\n",
              "      <th>business_id</th>\n",
              "      <th>date</th>\n",
              "      <th>review_id</th>\n",
              "      <th>stars</th>\n",
              "      <th>text</th>\n",
              "      <th>type</th>\n",
              "      <th>user_id</th>\n",
              "      <th>cool</th>\n",
              "      <th>useful</th>\n",
              "      <th>funny</th>\n",
              "      <th>text length</th>\n",
              "    </tr>\n",
              "  </thead>\n",
              "  <tbody>\n",
              "    <tr>\n",
              "      <th>0</th>\n",
              "      <td>9yKzy9PApeiPPOUJEtnvkg</td>\n",
              "      <td>2011-01-26</td>\n",
              "      <td>fWKvX83p0-ka4JS3dc6E5A</td>\n",
              "      <td>5</td>\n",
              "      <td>My wife took me here on my birthday for breakf...</td>\n",
              "      <td>review</td>\n",
              "      <td>rLtl8ZkDX5vH5nAx9C3q5Q</td>\n",
              "      <td>2</td>\n",
              "      <td>5</td>\n",
              "      <td>0</td>\n",
              "      <td>889</td>\n",
              "    </tr>\n",
              "    <tr>\n",
              "      <th>1</th>\n",
              "      <td>ZRJwVLyzEJq1VAihDhYiow</td>\n",
              "      <td>2011-07-27</td>\n",
              "      <td>IjZ33sJrzXqU-0X6U8NwyA</td>\n",
              "      <td>5</td>\n",
              "      <td>I have no idea why some people give bad review...</td>\n",
              "      <td>review</td>\n",
              "      <td>0a2KyEL0d3Yb1V6aivbIuQ</td>\n",
              "      <td>0</td>\n",
              "      <td>0</td>\n",
              "      <td>0</td>\n",
              "      <td>1345</td>\n",
              "    </tr>\n",
              "    <tr>\n",
              "      <th>2</th>\n",
              "      <td>6oRAC4uyJCsJl1X0WZpVSA</td>\n",
              "      <td>2012-06-14</td>\n",
              "      <td>IESLBzqUCLdSzSqm0eCSxQ</td>\n",
              "      <td>4</td>\n",
              "      <td>love the gyro plate. Rice is so good and I als...</td>\n",
              "      <td>review</td>\n",
              "      <td>0hT2KtfLiobPvh6cDC8JQg</td>\n",
              "      <td>0</td>\n",
              "      <td>1</td>\n",
              "      <td>0</td>\n",
              "      <td>76</td>\n",
              "    </tr>\n",
              "    <tr>\n",
              "      <th>3</th>\n",
              "      <td>_1QQZuf4zZOyFCvXc0o6Vg</td>\n",
              "      <td>2010-05-27</td>\n",
              "      <td>G-WvGaISbqqaMHlNnByodA</td>\n",
              "      <td>5</td>\n",
              "      <td>Rosie, Dakota, and I LOVE Chaparral Dog Park!!...</td>\n",
              "      <td>review</td>\n",
              "      <td>uZetl9T0NcROGOyFfughhg</td>\n",
              "      <td>1</td>\n",
              "      <td>2</td>\n",
              "      <td>0</td>\n",
              "      <td>419</td>\n",
              "    </tr>\n",
              "    <tr>\n",
              "      <th>4</th>\n",
              "      <td>6ozycU1RpktNG2-1BroVtw</td>\n",
              "      <td>2012-01-05</td>\n",
              "      <td>1uJFq2r5QfJG_6ExMRCaGw</td>\n",
              "      <td>5</td>\n",
              "      <td>General Manager Scott Petello is a good egg!!!...</td>\n",
              "      <td>review</td>\n",
              "      <td>vYmM4KTsC8ZfQBg-j5MWkw</td>\n",
              "      <td>0</td>\n",
              "      <td>0</td>\n",
              "      <td>0</td>\n",
              "      <td>469</td>\n",
              "    </tr>\n",
              "  </tbody>\n",
              "</table>\n",
              "</div>"
            ],
            "text/plain": [
              "              business_id        date               review_id  stars  \\\n",
              "0  9yKzy9PApeiPPOUJEtnvkg  2011-01-26  fWKvX83p0-ka4JS3dc6E5A      5   \n",
              "1  ZRJwVLyzEJq1VAihDhYiow  2011-07-27  IjZ33sJrzXqU-0X6U8NwyA      5   \n",
              "2  6oRAC4uyJCsJl1X0WZpVSA  2012-06-14  IESLBzqUCLdSzSqm0eCSxQ      4   \n",
              "3  _1QQZuf4zZOyFCvXc0o6Vg  2010-05-27  G-WvGaISbqqaMHlNnByodA      5   \n",
              "4  6ozycU1RpktNG2-1BroVtw  2012-01-05  1uJFq2r5QfJG_6ExMRCaGw      5   \n",
              "\n",
              "                                                text    type  \\\n",
              "0  My wife took me here on my birthday for breakf...  review   \n",
              "1  I have no idea why some people give bad review...  review   \n",
              "2  love the gyro plate. Rice is so good and I als...  review   \n",
              "3  Rosie, Dakota, and I LOVE Chaparral Dog Park!!...  review   \n",
              "4  General Manager Scott Petello is a good egg!!!...  review   \n",
              "\n",
              "                  user_id  cool  useful  funny  text length  \n",
              "0  rLtl8ZkDX5vH5nAx9C3q5Q     2       5      0          889  \n",
              "1  0a2KyEL0d3Yb1V6aivbIuQ     0       0      0         1345  \n",
              "2  0hT2KtfLiobPvh6cDC8JQg     0       1      0           76  \n",
              "3  uZetl9T0NcROGOyFfughhg     1       2      0          419  \n",
              "4  vYmM4KTsC8ZfQBg-j5MWkw     0       0      0          469  "
            ]
          },
          "metadata": {
            "tags": []
          },
          "execution_count": 6
        }
      ]
    },
    {
      "metadata": {
        "id": "7bedfKAi6bHG",
        "colab_type": "text"
      },
      "cell_type": "markdown",
      "source": [
        "We'll now try to create a grid of histograms placed side by side using Seaborn. We can use [FacetGrid](http://seaborn.pydata.org/generated/seaborn.FacetGrid.html) to see if there’s any relationship between our newly created **text length** feature and the **stars** rating."
      ]
    },
    {
      "metadata": {
        "id": "lzQAif1afLIa",
        "colab_type": "code",
        "colab": {
          "base_uri": "https://localhost:8080/",
          "height": 258
        },
        "outputId": "81b37da2-ad0e-41d7-d2e5-60dcf25d643b"
      },
      "cell_type": "code",
      "source": [
        "g = sns.FacetGrid(data=dataset, col='stars')\n",
        "g.map(plt.hist, 'text length', bins=50, edgecolor='black')"
      ],
      "execution_count": 7,
      "outputs": [
        {
          "output_type": "execute_result",
          "data": {
            "text/plain": [
              "<seaborn.axisgrid.FacetGrid at 0x7f13eeb5e080>"
            ]
          },
          "metadata": {
            "tags": []
          },
          "execution_count": 7
        },
        {
          "output_type": "display_data",
          "data": {
            "image/png": "[encoded data removed]",
            "text/plain": [
              "<Figure size 1080x216 with 5 Axes>"
            ]
          },
          "metadata": {
            "tags": []
          }
        }
      ]
    },
    {
      "metadata": {
        "id": "nH73S1wg6wF3",
        "colab_type": "text"
      },
      "cell_type": "markdown",
      "source": [
        "Seems like overall, the distribution of text length is **similar** across all five ratings. However, the number of text reviews seems to be skewed a lot higher towards the 4-star and 5-star ratings."
      ]
    },
    {
      "metadata": {
        "id": "t6cjwqvu61Ie",
        "colab_type": "text"
      },
      "cell_type": "markdown",
      "source": [
        " Let’s create a [box plot](http://seaborn.pydata.org/generated/seaborn.boxplot.html) of the text length for each star rating."
      ]
    },
    {
      "metadata": {
        "id": "WUWkCTNRfXmx",
        "colab_type": "code",
        "colab": {
          "base_uri": "https://localhost:8080/",
          "height": 432
        },
        "outputId": "7a2abfd2-c1c0-4a8a-9abf-5f953cc99fff"
      },
      "cell_type": "code",
      "source": [
        "sns.boxplot(x='stars', y='text length', data=dataset)"
      ],
      "execution_count": 8,
      "outputs": [
        {
          "output_type": "stream",
          "text": [
            "/usr/local/lib/python3.6/dist-packages/seaborn/categorical.py:454: FutureWarning: remove_na is deprecated and is a private function. Do not use.\n",
            "  box_data = remove_na(group_data)\n"
          ],
          "name": "stderr"
        },
        {
          "output_type": "execute_result",
          "data": {
            "text/plain": [
              "<matplotlib.axes._subplots.AxesSubplot at 0x7f13eca0e7b8>"
            ]
          },
          "metadata": {
            "tags": []
          },
          "execution_count": 8
        },
        {
          "output_type": "display_data",
          "data": {
            "image/png": "[encoded data removed]",
            "text/plain": [
              "<Figure size 576x396 with 1 Axes>"
            ]
          },
          "metadata": {
            "tags": []
          }
        }
      ]
    },
    {
      "metadata": {
        "id": "WUPOi_Tp7Agw",
        "colab_type": "text"
      },
      "cell_type": "markdown",
      "source": [
        "From the plot, looks like the 1-star and 2-star ratings have much longer text, but there are many outliers (which can be seen as points above the boxes). Because of this, maybe text length won’t be such a useful feature to consider after all."
      ]
    },
    {
      "metadata": {
        "id": "_4_xQVei7D4e",
        "colab_type": "text"
      },
      "cell_type": "markdown",
      "source": [
        "Let’s group the data by the star rating, and see if we can find a correlation between features such as **cool**, **useful**, and **funny**. We can use the **.corr()** method from Pandas to find any correlations in the dataframe."
      ]
    },
    {
      "metadata": {
        "id": "YnukP7MEfdT3",
        "colab_type": "code",
        "colab": {
          "base_uri": "https://localhost:8080/",
          "height": 173
        },
        "outputId": "f8a85fc1-cfa4-44a9-8a9b-bcc15bd68543"
      },
      "cell_type": "code",
      "source": [
        "stars = dataset.groupby('stars').mean()\n",
        "stars.corr()"
      ],
      "execution_count": 9,
      "outputs": [
        {
          "output_type": "execute_result",
          "data": {
            "text/html": [
              "<div>\n",
              "<style scoped>\n",
              "    .dataframe tbody tr th:only-of-type {\n",
              "        vertical-align: middle;\n",
              "    }\n",
              "\n",
              "    .dataframe tbody tr th {\n",
              "        vertical-align: top;\n",
              "    }\n",
              "\n",
              "    .dataframe thead th {\n",
              "        text-align: right;\n",
              "    }\n",
              "</style>\n",
              "<table border=\"1\" class=\"dataframe\">\n",
              "  <thead>\n",
              "    <tr style=\"text-align: right;\">\n",
              "      <th></th>\n",
              "      <th>cool</th>\n",
              "      <th>useful</th>\n",
              "      <th>funny</th>\n",
              "      <th>text length</th>\n",
              "    </tr>\n",
              "  </thead>\n",
              "  <tbody>\n",
              "    <tr>\n",
              "      <th>cool</th>\n",
              "      <td>1.000000</td>\n",
              "      <td>-0.743329</td>\n",
              "      <td>-0.944939</td>\n",
              "      <td>-0.857664</td>\n",
              "    </tr>\n",
              "    <tr>\n",
              "      <th>useful</th>\n",
              "      <td>-0.743329</td>\n",
              "      <td>1.000000</td>\n",
              "      <td>0.894506</td>\n",
              "      <td>0.699881</td>\n",
              "    </tr>\n",
              "    <tr>\n",
              "      <th>funny</th>\n",
              "      <td>-0.944939</td>\n",
              "      <td>0.894506</td>\n",
              "      <td>1.000000</td>\n",
              "      <td>0.843461</td>\n",
              "    </tr>\n",
              "    <tr>\n",
              "      <th>text length</th>\n",
              "      <td>-0.857664</td>\n",
              "      <td>0.699881</td>\n",
              "      <td>0.843461</td>\n",
              "      <td>1.000000</td>\n",
              "    </tr>\n",
              "  </tbody>\n",
              "</table>\n",
              "</div>"
            ],
            "text/plain": [
              "                 cool    useful     funny  text length\n",
              "cool         1.000000 -0.743329 -0.944939    -0.857664\n",
              "useful      -0.743329  1.000000  0.894506     0.699881\n",
              "funny       -0.944939  0.894506  1.000000     0.843461\n",
              "text length -0.857664  0.699881  0.843461     1.000000"
            ]
          },
          "metadata": {
            "tags": []
          },
          "execution_count": 9
        }
      ]
    },
    {
      "metadata": {
        "id": "Rwrb3c1m7PH4",
        "colab_type": "text"
      },
      "cell_type": "markdown",
      "source": [
        "To visualise these correlations, we can use Seaborn’s [heatmap](http://seaborn.pydata.org/generated/seaborn.heatmap.html):"
      ]
    },
    {
      "metadata": {
        "id": "qgZzUSwkfiV_",
        "colab_type": "code",
        "colab": {
          "base_uri": "https://localhost:8080/",
          "height": 364
        },
        "outputId": "59ae6493-4b18-4ac9-95db-819ce17d689b"
      },
      "cell_type": "code",
      "source": [
        "sns.heatmap(data=stars.corr(), annot=True)"
      ],
      "execution_count": 10,
      "outputs": [
        {
          "output_type": "execute_result",
          "data": {
            "text/plain": [
              "<matplotlib.axes._subplots.AxesSubplot at 0x7f13ec654240>"
            ]
          },
          "metadata": {
            "tags": []
          },
          "execution_count": 10
        },
        {
          "output_type": "display_data",
          "data": {
            "image/png": "[encoded data removed]",
            "text/plain": [
              "<Figure size 576x396 with 2 Axes>"
            ]
          },
          "metadata": {
            "tags": []
          }
        }
      ]
    },
    {
      "metadata": {
        "id": "I0SNbBtA7vze",
        "colab_type": "text"
      },
      "cell_type": "markdown",
      "source": [
        "##3. Splitting the Dataset"
      ]
    },
    {
      "metadata": {
        "id": "htdLdbYc73dM",
        "colab_type": "text"
      },
      "cell_type": "markdown",
      "source": [
        "As our task is to predict if a review is either bad or good, so let’s just grab reviews that are either 1 or 5 stars from the yelp dataframe. We can store the resulting reviews in a new dataframe called yelp_class."
      ]
    },
    {
      "metadata": {
        "id": "F9ubucF7flbG",
        "colab_type": "code",
        "colab": {
          "base_uri": "https://localhost:8080/",
          "height": 34
        },
        "outputId": "a344fa32-7016-4eae-a191-114805187701"
      },
      "cell_type": "code",
      "source": [
        "yelp_class = dataset[(dataset['stars'] == 1) | (dataset['stars'] == 5)]\n",
        "yelp_class.shape"
      ],
      "execution_count": 11,
      "outputs": [
        {
          "output_type": "execute_result",
          "data": {
            "text/plain": [
              "(4086, 11)"
            ]
          },
          "metadata": {
            "tags": []
          },
          "execution_count": 11
        }
      ]
    },
    {
      "metadata": {
        "id": "13Jg_xsb7_ZM",
        "colab_type": "text"
      },
      "cell_type": "markdown",
      "source": [
        "We can see from .shape that yelp_class only has 4086 reviews, compared to the 10,000 reviews in the original dataset. This is because we aren’t taking into account the reviews rated 2, 3, and 4 stars."
      ]
    },
    {
      "metadata": {
        "id": "K6tw18Ol8AVH",
        "colab_type": "text"
      },
      "cell_type": "markdown",
      "source": [
        "Now, let’s create the **X** and **y** for our classification task. X will be the **text** column of yelp_class, and y will be the **stars** column.\n",
        "\n"
      ]
    },
    {
      "metadata": {
        "id": "H1eqNk3nfs9T",
        "colab_type": "code",
        "colab": {}
      },
      "cell_type": "code",
      "source": [
        "X = yelp_class['text']\n",
        "y = yelp_class['stars']"
      ],
      "execution_count": 0,
      "outputs": []
    },
    {
      "metadata": {
        "id": "1Wlt0_XV8NhI",
        "colab_type": "text"
      },
      "cell_type": "markdown",
      "source": [
        "##4. Text Preprocessing"
      ]
    },
    {
      "metadata": {
        "id": "VRxsA7JB8SWE",
        "colab_type": "text"
      },
      "cell_type": "markdown",
      "source": [
        "The main issue with our data is that it is all in plain-text format."
      ]
    },
    {
      "metadata": {
        "id": "ikXaqHpWfv-B",
        "colab_type": "code",
        "colab": {
          "base_uri": "https://localhost:8080/",
          "height": 54
        },
        "outputId": "37d99afe-11c7-4ba3-9a3b-7e37e5939d57"
      },
      "cell_type": "code",
      "source": [
        "X[0]"
      ],
      "execution_count": 13,
      "outputs": [
        {
          "output_type": "execute_result",
          "data": {
            "text/plain": [
              "'My wife took me here on my birthday for breakfast and it was excellent.  The weather was perfect which made sitting outside overlooking their grounds an absolute pleasure.  Our waitress was excellent and our food arrived quickly on the semi-busy Saturday morning.  It looked like the place fills up pretty quickly so the earlier you get here the better.\\n\\nDo yourself a favor and get their Bloody Mary.  It was phenomenal and simply the best I\\'ve ever had.  I\\'m pretty sure they only use ingredients from their garden and blend them fresh when you order it.  It was amazing.\\n\\nWhile EVERYTHING on the menu looks excellent, I had the white truffle scrambled eggs vegetable skillet and it was tasty and delicious.  It came with 2 pieces of their griddled bread with was amazing and it absolutely made the meal complete.  It was the best \"toast\" I\\'ve ever had.\\n\\nAnyway, I can\\'t wait to go back!'"
            ]
          },
          "metadata": {
            "tags": []
          },
          "execution_count": 13
        }
      ]
    },
    {
      "metadata": {
        "id": "7lk4B8tL9cPa",
        "colab_type": "text"
      },
      "cell_type": "markdown",
      "source": [
        "The classification algorithm will need some sort of **feature vector** in order to perform the classification task. The simplest way to convert a corpus to a vector format is the **bag-of-words** approach, where each unique word in a text will be represented by one number.\n",
        "\n",
        "Let’s write a function that will split a message into its individual words, and return a list. We will also remove the very common words (such as “the”, “a”, “an”, etc.), also known as stopwords. We'll use the NLTK library to do this. The function below removes punctuation, stopwords, and returns a list of the remaining words, or tokens."
      ]
    },
    {
      "metadata": {
        "id": "YSE1Ufz4fy-u",
        "colab_type": "code",
        "colab": {}
      },
      "cell_type": "code",
      "source": [
        "import string\n",
        "def text_process(text):\n",
        "    '''\n",
        "    Takes in a string of text, then performs the following:\n",
        "    1. Remove all punctuation\n",
        "    2. Remove all stopwords\n",
        "    3. Return the cleaned text as a list of words\n",
        "    '''\n",
        "    nopunc = [char for char in text if char not in string.punctuation]\n",
        "    nopunc = ''.join(nopunc)\n",
        "    \n",
        "    return [word for word in nopunc.split() if word.lower() not in stopwords.words('english')]"
      ],
      "execution_count": 0,
      "outputs": []
    },
    {
      "metadata": {
        "id": "LEqsDj6t9wlP",
        "colab_type": "text"
      },
      "cell_type": "markdown",
      "source": [
        "To check if the function works, let’s pass in some random text and see if it gets processed correctly."
      ]
    },
    {
      "metadata": {
        "id": "cZddYxRaf4IN",
        "colab_type": "code",
        "colab": {
          "base_uri": "https://localhost:8080/",
          "height": 34
        },
        "outputId": "38db1061-ed71-49e9-cb2b-d101bda020aa"
      },
      "cell_type": "code",
      "source": [
        "sample_text = \"Hey there! This is a sample review, which happens to contain punctuations.\"\n",
        "print(text_process(sample_text))"
      ],
      "execution_count": 15,
      "outputs": [
        {
          "output_type": "stream",
          "text": [
            "['Hey', 'sample', 'review', 'happens', 'contain', 'punctuations']\n"
          ],
          "name": "stdout"
        }
      ]
    },
    {
      "metadata": {
        "id": "lHDw5Dm59xWk",
        "colab_type": "text"
      },
      "cell_type": "markdown",
      "source": [
        "There are no punctuations or stopwords, and the remaining words are returned to us as a list of tokens."
      ]
    },
    {
      "metadata": {
        "id": "tdSLuPJ890_G",
        "colab_type": "text"
      },
      "cell_type": "markdown",
      "source": [
        "##5. Vectorization"
      ]
    },
    {
      "metadata": {
        "id": "w6MFcEEA9_54",
        "colab_type": "text"
      },
      "cell_type": "markdown",
      "source": [
        "At the moment, we have our reviews as lists of tokens (also known as lemmas). To enable Scikit-learn algorithms to work on our text, we need to convert each review into a vector.\n",
        "\n",
        "We can use Scikit-learn’s [CountVectorizer](https://scikit-learn.org/stable/modules/generated/sklearn.feature_extraction.text.CountVectorizer.html) to convert the text collection into a matrix of token counts. "
      ]
    },
    {
      "metadata": {
        "id": "PnGNYQDj-PNe",
        "colab_type": "text"
      },
      "cell_type": "markdown",
      "source": [
        "Since there are many reviews, we can expect a lot of zero counts for the presence of a word in the collection. Because of this, Scikit-learn will output a sparse matrix.\n",
        "\n",
        "Let’s import CountVectorizer and fit an instance to our review text (stored in X), passing in our **text_process** function as the analyser.\n",
        "\n"
      ]
    },
    {
      "metadata": {
        "id": "seYxQ7jpgO7E",
        "colab_type": "code",
        "colab": {}
      },
      "cell_type": "code",
      "source": [
        "from sklearn.feature_extraction.text import CountVectorizer\n",
        "bow_transformer = CountVectorizer(analyzer=text_process).fit(X)"
      ],
      "execution_count": 0,
      "outputs": []
    },
    {
      "metadata": {
        "id": "rH0rjOOY-Z_z",
        "colab_type": "text"
      },
      "cell_type": "markdown",
      "source": [
        "Now, we can look at the size of the vocabulary stored in the vectoriser (based on X) like this:"
      ]
    },
    {
      "metadata": {
        "id": "2kw1jGYqhB2t",
        "colab_type": "code",
        "colab": {
          "base_uri": "https://localhost:8080/",
          "height": 34
        },
        "outputId": "f48027a9-f69c-46e0-ae92-d0f674a2662c"
      },
      "cell_type": "code",
      "source": [
        "len(bow_transformer.vocabulary_)"
      ],
      "execution_count": 17,
      "outputs": [
        {
          "output_type": "execute_result",
          "data": {
            "text/plain": [
              "26435"
            ]
          },
          "metadata": {
            "tags": []
          },
          "execution_count": 17
        }
      ]
    },
    {
      "metadata": {
        "id": "5yxFUzp5-e62",
        "colab_type": "text"
      },
      "cell_type": "markdown",
      "source": [
        "To illustrate how the vectoriser works, let’s try a random review and get its **bag-of-word counts** as a vector. Here’s the twenty-fifth review as plain-text:"
      ]
    },
    {
      "metadata": {
        "id": "PF7gqtjBhGt1",
        "colab_type": "code",
        "colab": {
          "base_uri": "https://localhost:8080/",
          "height": 54
        },
        "outputId": "da757e4b-180b-44a4-fc30-789b76caa29c"
      },
      "cell_type": "code",
      "source": [
        "review_25 = X[24]\n",
        "review_25"
      ],
      "execution_count": 18,
      "outputs": [
        {
          "output_type": "execute_result",
          "data": {
            "text/plain": [
              "\"I love this place! I have been coming here for ages.\\nMy favorites: Elsa's Chicken sandwich, any of their burgers, dragon chicken wings, china's little chicken sandwich, and the hot pepper chicken sandwich. The atmosphere is always fun and the art they display is very abstract but totally cool!\""
            ]
          },
          "metadata": {
            "tags": []
          },
          "execution_count": 18
        }
      ]
    },
    {
      "metadata": {
        "id": "-8S2BTvV_S8Y",
        "colab_type": "text"
      },
      "cell_type": "markdown",
      "source": [
        "Now let’s see our review represented as a vector:"
      ]
    },
    {
      "metadata": {
        "id": "a6SSvkxXhU8R",
        "colab_type": "code",
        "colab": {
          "base_uri": "https://localhost:8080/",
          "height": 425
        },
        "outputId": "f9b3c9cc-94aa-447c-9b5f-58648cedb61f"
      },
      "cell_type": "code",
      "source": [
        "bow_25 = bow_transformer.transform([review_25])\n",
        "print(bow_25)"
      ],
      "execution_count": 19,
      "outputs": [
        {
          "output_type": "stream",
          "text": [
            "  (0, 2099)\t1\n",
            "  (0, 3006)\t1\n",
            "  (0, 8909)\t1\n",
            "  (0, 9151)\t1\n",
            "  (0, 9295)\t1\n",
            "  (0, 9616)\t1\n",
            "  (0, 9727)\t1\n",
            "  (0, 10847)\t1\n",
            "  (0, 11443)\t3\n",
            "  (0, 11492)\t1\n",
            "  (0, 11878)\t1\n",
            "  (0, 12221)\t1\n",
            "  (0, 13323)\t1\n",
            "  (0, 13520)\t1\n",
            "  (0, 14481)\t1\n",
            "  (0, 15165)\t1\n",
            "  (0, 16379)\t1\n",
            "  (0, 17812)\t1\n",
            "  (0, 17951)\t1\n",
            "  (0, 20044)\t1\n",
            "  (0, 20298)\t1\n",
            "  (0, 22077)\t3\n",
            "  (0, 24797)\t1\n",
            "  (0, 26102)\t1\n"
          ],
          "name": "stdout"
        }
      ]
    },
    {
      "metadata": {
        "id": "LUo3dchh_VuP",
        "colab_type": "text"
      },
      "cell_type": "markdown",
      "source": [
        "This means that there are 24 unique words in the review (after removing stopwords). Two of them appear thrice, and the rest appear only once. Let’s go ahead and check which ones appear thrice:"
      ]
    },
    {
      "metadata": {
        "id": "gpwZzjuHhcPK",
        "colab_type": "code",
        "colab": {
          "base_uri": "https://localhost:8080/",
          "height": 51
        },
        "outputId": "ad2b6d6d-ca47-4300-d9d4-e4e792765045"
      },
      "cell_type": "code",
      "source": [
        "print(bow_transformer.get_feature_names()[11443])\n",
        "print(bow_transformer.get_feature_names()[22077])"
      ],
      "execution_count": 20,
      "outputs": [
        {
          "output_type": "stream",
          "text": [
            "chicken\n",
            "sandwich\n"
          ],
          "name": "stdout"
        }
      ]
    },
    {
      "metadata": {
        "id": "otDerTJE_Yzo",
        "colab_type": "text"
      },
      "cell_type": "markdown",
      "source": [
        "As we’ve seen how the vectorisation process works, we can transform our X dataframe into a sparse matrix. To do this, let’s use the **.transform()** method on our bag-of-words transformed object."
      ]
    },
    {
      "metadata": {
        "id": "ZqFOvhubhiHX",
        "colab_type": "code",
        "colab": {}
      },
      "cell_type": "code",
      "source": [
        "X = bow_transformer.transform(X)"
      ],
      "execution_count": 0,
      "outputs": []
    },
    {
      "metadata": {
        "id": "UZuNDmii_g7k",
        "colab_type": "text"
      },
      "cell_type": "markdown",
      "source": [
        "We can check out the shape of our new X."
      ]
    },
    {
      "metadata": {
        "id": "dkLBkNLhhnQ6",
        "colab_type": "code",
        "colab": {
          "base_uri": "https://localhost:8080/",
          "height": 68
        },
        "outputId": "5b4abb5d-d86d-44dd-b05f-3a615ac2ecce"
      },
      "cell_type": "code",
      "source": [
        "print('Shape of Sparse Matrix: ', X.shape)\n",
        "print('Amount of Non-Zero occurrences: ', X.nnz)\n",
        "\n",
        "# Percentage of non-zero values\n",
        "density = (100.0 * X.nnz / (X.shape[0] * X.shape[1]))\n",
        "print(\"Density: {}\".format((density)))"
      ],
      "execution_count": 22,
      "outputs": [
        {
          "output_type": "stream",
          "text": [
            "Shape of Sparse Matrix:  (4086, 26435)\n",
            "Amount of Non-Zero occurrences:  222391\n",
            "Density: 0.2058920276658241\n"
          ],
          "name": "stdout"
        }
      ]
    },
    {
      "metadata": {
        "id": "0qvBIIq0_oEg",
        "colab_type": "text"
      },
      "cell_type": "markdown",
      "source": [
        "##6. Fitting the model"
      ]
    },
    {
      "metadata": {
        "id": "WID4GO3ch9_G",
        "colab_type": "code",
        "colab": {}
      },
      "cell_type": "code",
      "source": [
        "# Splitting the dataset into the Training set and Test set\n",
        "from sklearn.model_selection import train_test_split\n",
        "X_train, X_test, y_train, y_test = train_test_split(X, y, test_size=0.3, random_state=101)"
      ],
      "execution_count": 0,
      "outputs": []
    },
    {
      "metadata": {
        "id": "eyyDVCTYAyaA",
        "colab_type": "text"
      },
      "cell_type": "markdown",
      "source": [
        "###Training our model\n",
        "**Multinomial Naive Bayes** is a specialised version of Naive Bayes designed more for text documents. Let’s build a Multinomial Naive Bayes model and fit it to our training set (X_train and y_train)."
      ]
    },
    {
      "metadata": {
        "id": "ay_ANXx8iEX_",
        "colab_type": "code",
        "colab": {
          "base_uri": "https://localhost:8080/",
          "height": 34
        },
        "outputId": "bf247ace-89cf-4800-b33d-e7bcc5fc456e"
      },
      "cell_type": "code",
      "source": [
        "# Fitting model to the Training set\n",
        "from sklearn.naive_bayes import MultinomialNB\n",
        "nb = MultinomialNB()\n",
        "nb.fit(X_train, y_train)"
      ],
      "execution_count": 24,
      "outputs": [
        {
          "output_type": "execute_result",
          "data": {
            "text/plain": [
              "MultinomialNB(alpha=1.0, class_prior=None, fit_prior=True)"
            ]
          },
          "metadata": {
            "tags": []
          },
          "execution_count": 24
        }
      ]
    },
    {
      "metadata": {
        "id": "EWsnBbw4iJbh",
        "colab_type": "code",
        "colab": {}
      },
      "cell_type": "code",
      "source": [
        "# Predicting the Test Set Results\n",
        "pred = nb.predict(X_test)"
      ],
      "execution_count": 0,
      "outputs": []
    },
    {
      "metadata": {
        "id": "no-JLMLWiK62",
        "colab_type": "code",
        "colab": {
          "base_uri": "https://localhost:8080/",
          "height": 238
        },
        "outputId": "fb3e921b-2b85-4a47-f766-2f3617bbdced"
      },
      "cell_type": "code",
      "source": [
        "# Making the Confusion Matrix and \n",
        "from sklearn.metrics import confusion_matrix, classification_report\n",
        "\n",
        "print(confusion_matrix(y_test, pred))\n",
        "print('\\n')\n",
        "print(classification_report(y_test, pred))"
      ],
      "execution_count": 26,
      "outputs": [
        {
          "output_type": "stream",
          "text": [
            "[[157  71]\n",
            " [ 24 974]]\n",
            "\n",
            "\n",
            "              precision    recall  f1-score   support\n",
            "\n",
            "           1       0.87      0.69      0.77       228\n",
            "           5       0.93      0.98      0.95       998\n",
            "\n",
            "   micro avg       0.92      0.92      0.92      1226\n",
            "   macro avg       0.90      0.83      0.86      1226\n",
            "weighted avg       0.92      0.92      0.92      1226\n",
            "\n"
          ],
          "name": "stdout"
        }
      ]
    },
    {
      "metadata": {
        "id": "grwGPXj6BLz_",
        "colab_type": "text"
      },
      "cell_type": "markdown",
      "source": [
        "Our model has achieved **92%** accuracy! This means that our model can predict whether a user liked a local business or not, based on what they typed!"
      ]
    },
    {
      "metadata": {
        "id": "rGmJcHuEBRyf",
        "colab_type": "text"
      },
      "cell_type": "markdown",
      "source": [
        "##Predicting a singular positive review"
      ]
    },
    {
      "metadata": {
        "id": "5Nze6ItOirS2",
        "colab_type": "code",
        "colab": {
          "base_uri": "https://localhost:8080/",
          "height": 54
        },
        "outputId": "472b1ace-8e4d-4f19-8ee5-a7531a42ad4a"
      },
      "cell_type": "code",
      "source": [
        "positive_review = yelp_class['text'][59]\n",
        "positive_review"
      ],
      "execution_count": 27,
      "outputs": [
        {
          "output_type": "execute_result",
          "data": {
            "text/plain": [
              "\"This restaurant is incredible, and has the best pasta carbonara and the best tiramisu I've had in my life. All the food is wonderful, though. The calamari is not fried. The bread served with dinner comes right out of the oven, and the tomatoes are the freshest I've tasted outside of my mom's own garden. This is great attention to detail.\\n\\nI can no longer eat at any other Italian restaurant without feeling slighted. This is the first place I want take out-of-town visitors I'm looking to impress.\\n\\nThe owner, Jon, is helpful, friendly, and really cares about providing a positive dining experience. He's spot on with his wine recommendations, and he organizes wine tasting events which you can find out about by joining the mailing list or Facebook page.\""
            ]
          },
          "metadata": {
            "tags": []
          },
          "execution_count": 27
        }
      ]
    },
    {
      "metadata": {
        "id": "zuu_-PtEBXgD",
        "colab_type": "text"
      },
      "cell_type": "markdown",
      "source": [
        "As we can clearly see that it's a positive review so we can expect our model to predict a rating of 5 for this review."
      ]
    },
    {
      "metadata": {
        "id": "Ir_nMLH_isf-",
        "colab_type": "code",
        "colab": {
          "base_uri": "https://localhost:8080/",
          "height": 34
        },
        "outputId": "963b8b25-277a-4097-f3bd-ecd71c432b39"
      },
      "cell_type": "code",
      "source": [
        "positive_review_transformed = bow_transformer.transform([positive_review])\n",
        "nb.predict(positive_review_transformed)[0]"
      ],
      "execution_count": 28,
      "outputs": [
        {
          "output_type": "execute_result",
          "data": {
            "text/plain": [
              "5"
            ]
          },
          "metadata": {
            "tags": []
          },
          "execution_count": 28
        }
      ]
    },
    {
      "metadata": {
        "id": "FVZkB44-BiYw",
        "colab_type": "text"
      },
      "cell_type": "markdown",
      "source": [
        "Our model thinks this review is positive, just as we expected."
      ]
    },
    {
      "metadata": {
        "id": "XMKsILdzBi7s",
        "colab_type": "text"
      },
      "cell_type": "markdown",
      "source": [
        "##Predicting a singular negative review"
      ]
    },
    {
      "metadata": {
        "id": "xFDz0I0EiwHV",
        "colab_type": "code",
        "colab": {
          "base_uri": "https://localhost:8080/",
          "height": 54
        },
        "outputId": "2253bc64-8f9f-4b21-8b87-f18a43e796ca"
      },
      "cell_type": "code",
      "source": [
        "negative_review = yelp_class['text'][281]\n",
        "negative_review"
      ],
      "execution_count": 29,
      "outputs": [
        {
          "output_type": "execute_result",
          "data": {
            "text/plain": [
              "'Still quite poor both in service and food. maybe I made a mistake and ordered Sichuan Gong Bao ji ding for what seemed like people from canton district. Unfortunately to get the good service U have to speak Mandarin/Cantonese. I do speak a smattering but try not to use it as I never feel confident about the intonation. \\n\\nThe dish came out with zichini and bell peppers (what!??)  Where is the peanuts the dried fried red peppers and the large pieces of scallion. On pointing this out all I got was \" Oh you like peanuts.. ok I will put some on\" and she then proceeded to get some peanuts and sprinkle it on the chicken.\\n\\nWell at that point I was happy that atleast the chicken pieces were present else she would probably end up sprinkling raw chicken pieces on it like the raw peanuts she dumped on top of the food. \\n\\nWell then  I spoke a few chinese words and the scowl turned into a smile and she then became a bit more friendlier. \\n\\nUnfortunately I do not condone this type of behavior. It is all in poor taste...'"
            ]
          },
          "metadata": {
            "tags": []
          },
          "execution_count": 29
        }
      ]
    },
    {
      "metadata": {
        "id": "JaM4A_IfBoNS",
        "colab_type": "text"
      },
      "cell_type": "markdown",
      "source": [
        "This is a slightly more negative review. So, we can expect our model to rate this a 1-star."
      ]
    },
    {
      "metadata": {
        "id": "xRAalBEjiy-v",
        "colab_type": "code",
        "colab": {
          "base_uri": "https://localhost:8080/",
          "height": 34
        },
        "outputId": "476923a3-331c-430a-a6a3-82eb3324311d"
      },
      "cell_type": "code",
      "source": [
        "negative_review_transformed = bow_transformer.transform([negative_review])\n",
        "nb.predict(negative_review_transformed)[0]"
      ],
      "execution_count": 30,
      "outputs": [
        {
          "output_type": "execute_result",
          "data": {
            "text/plain": [
              "1"
            ]
          },
          "metadata": {
            "tags": []
          },
          "execution_count": 30
        }
      ]
    },
    {
      "metadata": {
        "id": "AtMqNVZQBv6P",
        "colab_type": "text"
      },
      "cell_type": "markdown",
      "source": [
        "Our model is right again!"
      ]
    }
  ]
}
